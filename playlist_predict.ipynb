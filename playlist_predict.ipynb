{
 "cells": [
  {
   "cell_type": "markdown",
   "source": [
    "Setup up imports"
   ],
   "metadata": {
    "collapsed": false
   }
  },
  {
   "cell_type": "code",
   "execution_count": 6,
   "outputs": [],
   "source": [
    "import os\n",
    "import pandas as pd\n",
    "import json\n",
    "import spotipy\n",
    "from spotipy.oauth2 import SpotifyClientCredentials\n",
    "import re\n",
    "import matplotlib.pyplot as plt\n",
    "import requests\n",
    "\n",
    "%load_ext dotenv\n",
    "%dotenv"
   ],
   "metadata": {
    "collapsed": false,
    "pycharm": {
     "name": "#%%\n"
    }
   }
  },
  {
   "cell_type": "markdown",
   "source": [
    "### Lets get started by preprocessing our data\n",
    "First we need to load the data from the JSON files given"
   ],
   "metadata": {
    "collapsed": false
   }
  },
  {
   "cell_type": "code",
   "execution_count": 3,
   "outputs": [
    {
     "name": "stdout",
     "output_type": "stream",
     "text": [
      "processing slice: mpd.slice.0-999.json\n"
     ]
    }
   ],
   "source": [
    "DATA_DIR = 'spotify_million_playlist_dataset/data/'\n",
    "\n",
    "playlists = []\n",
    "for file in sorted(os.scandir(DATA_DIR), key=lambda e: e.name):\n",
    "    print(\"processing slice: \" + str(file.name))\n",
    "    data = json.load(open(file.path))\n",
    "    playlists.append(pd.DataFrame(data['playlists']))\n",
    "    break"
   ],
   "metadata": {
    "collapsed": false,
    "pycharm": {
     "name": "#%%\n"
    }
   }
  },
  {
   "cell_type": "markdown",
   "source": [
    "Let's clean up our array of playlists a little bit by combining them into a pandas DataFrame"
   ],
   "metadata": {
    "collapsed": false
   }
  },
  {
   "cell_type": "code",
   "execution_count": 4,
   "outputs": [
    {
     "name": "stdout",
     "output_type": "stream",
     "text": [
      "               name collaborative  pid  modified_at  num_tracks  num_albums  \\\n",
      "0        Throwbacks         false    0   1493424000          52          47   \n",
      "1  Awesome Playlist         false    1   1506556800          39          23   \n",
      "2           korean          false    2   1505692800          64          51   \n",
      "3               mat         false    3   1501027200         126         107   \n",
      "4               90s         false    4   1401667200          17          16   \n",
      "\n",
      "   num_followers                                             tracks  \\\n",
      "0              1  [{'pos': 0, 'artist_name': 'Missy Elliott', 't...   \n",
      "1              1  [{'pos': 0, 'artist_name': 'Survivor', 'track_...   \n",
      "2              1  [{'pos': 0, 'artist_name': 'Hoody', 'track_uri...   \n",
      "3              1  [{'pos': 0, 'artist_name': 'Camille Saint-Saën...   \n",
      "4              2  [{'pos': 0, 'artist_name': 'The Smashing Pumpk...   \n",
      "\n",
      "   num_edits  duration_ms  num_artists description  \n",
      "0          6     11532414           37         NaN  \n",
      "1          5     11656470           21         NaN  \n",
      "2         18     14039958           31         NaN  \n",
      "3          4     28926058           86         NaN  \n",
      "4          7      4335282           16         NaN  \n"
     ]
    }
   ],
   "source": [
    "playlists_frame = pd.concat(playlists)\n",
    "print(playlists_frame.head())"
   ],
   "metadata": {
    "collapsed": false,
    "pycharm": {
     "name": "#%%\n"
    }
   }
  },
  {
   "cell_type": "markdown",
   "source": [
    "### Now we can begin our analysis (sort of):\n",
    "\n",
    "We'll start by querying the Spotify API with the Spotipy package to get some more details\n",
    "on the songs that are contained within each playlist. Spotify calculates various data for each song\n",
    "such as the time signature, tempo, timbre, etc."
   ],
   "metadata": {
    "collapsed": false,
    "pycharm": {
     "name": "#%% md\n"
    }
   }
  },
  {
   "cell_type": "code",
   "execution_count": null,
   "outputs": [],
   "source": [
    "#authorize our API session with credentials stored in the environment variables\n",
    "\n",
    "auth_manager = SpotifyClientCredentials()\n",
    "sp = spotipy.Spotify(auth_manager=auth_manager)"
   ],
   "metadata": {
    "collapsed": false,
    "pycharm": {
     "name": "#%%\n"
    }
   }
  },
  {
   "cell_type": "markdown",
   "source": [
    "Spotify provides us with two different types of song data. One is called the [audio features](https://developer.spotify.com/documentation/web-api/reference/tracks/get-audio-features/),\n",
    "and the other is the [audio analysis](https://developer.spotify.com/documentation/web-api/reference/tracks/get-audio-analysis).\n",
    "Essentially, the features are Spotify's interpretation of the audio analysis, it has higher-level attributes\n",
    "like the 'danceability' and 'liveness' of a song. The audio analysis is every single piece of data\n",
    "that Spotify was able to calculate from the songs sound signature.\n",
    "\n",
    "Audio features sounds like it might be a little easier to handle, so we'll define a function to query\n",
    "that data first."
   ],
   "metadata": {
    "collapsed": false
   }
  },
  {
   "cell_type": "code",
   "source": [
    "def processSongFeatures(playlist, sp):\n",
    "    songs = playlist['tracks']\n",
    "\n",
    "    # get features for all songs\n",
    "    song_features = []\n",
    "    song_ids = []\n",
    "    for song in songs:\n",
    "        # get song id\n",
    "        song_id = re.sub('spotify:track:', '', song['track_uri'])\n",
    "        song_ids.append(song_id)\n",
    "        print('processing: ' + song['track_name'])\n",
    "        features = sp.audio_features(song_id)[0]\n",
    "        song_features.append(features)\n",
    "\n",
    "    # convert features into dataframe by song id\n",
    "    features_by_id = pd.DataFrame(song_features, index=song_ids)\n",
    "    features_by_id.index.name = 'song_id'\n",
    "    print(features_by_id.head())\n",
    "\n",
    "    # export data\n",
    "    \"\"\"export_dir = playlist['name'] + '-' + playlist['id']\n",
    "    if not os.path.isdir(export_dir):\n",
    "        os.mkdir(export_dir)\n",
    "\n",
    "    features_by_id.to_csv(export_dir + '/features.csv')\"\"\"\n"
   ],
   "metadata": {
    "collapsed": false,
    "pycharm": {
     "name": "#%%\n"
    }
   },
   "execution_count": null,
   "outputs": []
  }
 ],
 "metadata": {
  "kernelspec": {
   "display_name": "Python 3",
   "language": "python",
   "name": "python3"
  },
  "language_info": {
   "codemirror_mode": {
    "name": "ipython",
    "version": 2
   },
   "file_extension": ".py",
   "mimetype": "text/x-python",
   "name": "python",
   "nbconvert_exporter": "python",
   "pygments_lexer": "ipython2",
   "version": "2.7.6"
  },
  "pycharm": {
   "stem_cell": {
    "cell_type": "raw",
    "source": [
     "\n"
    ],
    "metadata": {
     "collapsed": false
    }
   }
  }
 },
 "nbformat": 4,
 "nbformat_minor": 0
}