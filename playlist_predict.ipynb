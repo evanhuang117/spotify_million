{
 "cells": [
  {
   "cell_type": "markdown",
   "source": [
    "Setup up imports"
   ],
   "metadata": {
    "collapsed": false
   }
  },
  {
   "cell_type": "code",
   "execution_count": 36,
   "outputs": [
    {
     "name": "stdout",
     "output_type": "stream",
     "text": [
      "The dotenv extension is already loaded. To reload it, use:\n",
      "  %reload_ext dotenv\n"
     ]
    }
   ],
   "source": [
    "import os\n",
    "import pandas as pd\n",
    "import json\n",
    "import spotipy\n",
    "from spotipy.oauth2 import SpotifyClientCredentials\n",
    "import re\n",
    "import matplotlib.pyplot as plt\n",
    "import requests\n",
    "from IPython.core.interactiveshell import InteractiveShell\n",
    "InteractiveShell.ast_node_interactivity = \"all\"\n",
    "\n",
    "# load client credentials using .env file\n",
    "# SPOTIPY_CLIENT_ID=YOUR_CLIENT_ID\n",
    "# SPOTIPY_CLIENT_SECRET=YOUR_CLIENT_SECRET\n",
    "%load_ext dotenv\n",
    "%dotenv"
   ],
   "metadata": {
    "collapsed": false,
    "pycharm": {
     "name": "#%%\n"
    }
   }
  },
  {
   "cell_type": "markdown",
   "source": [
    "### Lets get started by preprocessing our data\n",
    "First we need to load the data from the JSON files given"
   ],
   "metadata": {
    "collapsed": false
   }
  },
  {
   "cell_type": "code",
   "execution_count": 37,
   "outputs": [
    {
     "name": "stdout",
     "output_type": "stream",
     "text": [
      "processing slice: mpd.slice.0-999.json\n"
     ]
    }
   ],
   "source": [
    "DATA_DIR = 'spotify_million_playlist_dataset/data/'\n",
    "\n",
    "playlists = []\n",
    "for file in sorted(os.scandir(DATA_DIR), key=lambda e: e.name):\n",
    "    print(\"processing slice: \" + str(file.name))\n",
    "    data = json.load(open(file.path))\n",
    "    playlists.append(pd.DataFrame(data['playlists']))\n",
    "    break"
   ],
   "metadata": {
    "collapsed": false,
    "pycharm": {
     "name": "#%%\n"
    }
   }
  },
  {
   "cell_type": "markdown",
   "source": [
    "Let's clean up our array of playlists a little bit by combining them into a pandas DataFrame"
   ],
   "metadata": {
    "collapsed": false
   }
  },
  {
   "cell_type": "code",
   "execution_count": 38,
   "outputs": [
    {
     "name": "stdout",
     "output_type": "stream",
     "text": [
      "               name collaborative  pid  modified_at  num_tracks  num_albums  \\\n",
      "0        Throwbacks         false    0   1493424000          52          47   \n",
      "1  Awesome Playlist         false    1   1506556800          39          23   \n",
      "2           korean          false    2   1505692800          64          51   \n",
      "3               mat         false    3   1501027200         126         107   \n",
      "4               90s         false    4   1401667200          17          16   \n",
      "\n",
      "   num_followers                                             tracks  \\\n",
      "0              1  [{'pos': 0, 'artist_name': 'Missy Elliott', 't...   \n",
      "1              1  [{'pos': 0, 'artist_name': 'Survivor', 'track_...   \n",
      "2              1  [{'pos': 0, 'artist_name': 'Hoody', 'track_uri...   \n",
      "3              1  [{'pos': 0, 'artist_name': 'Camille Saint-Saën...   \n",
      "4              2  [{'pos': 0, 'artist_name': 'The Smashing Pumpk...   \n",
      "\n",
      "   num_edits  duration_ms  num_artists description  \n",
      "0          6     11532414           37         NaN  \n",
      "1          5     11656470           21         NaN  \n",
      "2         18     14039958           31         NaN  \n",
      "3          4     28926058           86         NaN  \n",
      "4          7      4335282           16         NaN  \n"
     ]
    }
   ],
   "source": [
    "playlists_frame = pd.concat(playlists)\n",
    "playlists_frame.head()"
   ],
   "metadata": {
    "collapsed": false,
    "pycharm": {
     "name": "#%%\n"
    }
   }
  },
  {
   "cell_type": "markdown",
   "source": [
    "### Now we can begin our analysis (sort of):\n",
    "\n",
    "We'll start by querying the Spotify API with the Spotipy package to get some more details\n",
    "on the songs that are contained within each playlist. Spotify calculates various data for each song\n",
    "such as the time signature, tempo, timbre, etc."
   ],
   "metadata": {
    "collapsed": false,
    "pycharm": {
     "name": "#%% md\n"
    }
   }
  },
  {
   "cell_type": "code",
   "execution_count": 39,
   "outputs": [],
   "source": [
    "#authorize our API session with credentials stored in the environment variables\n",
    "\n",
    "auth_manager = SpotifyClientCredentials()\n",
    "sp = spotipy.Spotify(auth_manager=auth_manager)"
   ],
   "metadata": {
    "collapsed": false,
    "pycharm": {
     "name": "#%%\n"
    }
   }
  },
  {
   "cell_type": "markdown",
   "source": [
    "Spotify provides us with two different types of song data. One is called the [audio features](https://developer.spotify.com/documentation/web-api/reference/tracks/get-audio-features/),\n",
    "and the other is the [audio analysis](https://developer.spotify.com/documentation/web-api/reference/tracks/get-audio-analysis).\n",
    "Essentially, the features are Spotify's interpretation of the audio analysis, it has higher-level attributes\n",
    "like the 'danceability' and 'liveness' of a song. The audio analysis is every single piece of data\n",
    "that Spotify was able to calculate from the songs sound signature.\n",
    "\n",
    "Audio features sounds like it might be a little easier to handle, so we'll define a function to query\n",
    "that data first."
   ],
   "metadata": {
    "collapsed": false
   }
  },
  {
   "cell_type": "code",
   "source": [
    "def processSongFeatures(playlist, sp):\n",
    "    songs = playlist['tracks']\n",
    "\n",
    "    # get features for all songs\n",
    "    song_features = []\n",
    "    song_ids = []\n",
    "    for song in songs:\n",
    "        # get song id\n",
    "        song_id = re.sub('spotify:track:', '', song['track_uri'])\n",
    "        song_ids.append(song_id)\n",
    "        print('processing: ' + song['track_name'])\n",
    "        features = sp.audio_features(song_id)[0]\n",
    "        song_features.append(features)\n",
    "\n",
    "    # convert features into dataframe by song id\n",
    "    features_by_id = pd.DataFrame(song_features, index=song_ids)\n",
    "    features_by_id.index.name = 'song_id'\n",
    "    features_by_id.head()\n",
    "\n",
    "    # export data\n",
    "    \"\"\"export_dir = playlist['name'] + '-' + playlist['id']\n",
    "    if not os.path.isdir(export_dir):\n",
    "        os.mkdir(export_dir)\n",
    "\n",
    "    features_by_id.to_csv(export_dir + '/features.csv')\"\"\""
   ],
   "metadata": {
    "collapsed": false,
    "pycharm": {
     "name": "#%%\n"
    }
   },
   "execution_count": 40,
   "outputs": []
  },
  {
   "cell_type": "markdown",
   "source": [
    "Next we can work on handling the audio analysis data, this is a little bit more complicated. We'll start\n",
    "by extracting the list of songs in each playlist from our dataframe of playlists. Using Spotify,\n",
    "we query the API for the audio analysis for each song and create a map entry for it so we can associate\n",
    "each song with its analysis."
   ],
   "metadata": {
    "collapsed": false,
    "pycharm": {
     "name": "#%% md\n"
    }
   }
  },
  {
   "cell_type": "code",
   "execution_count": 41,
   "outputs": [
    {
     "name": "stdout",
     "output_type": "stream",
     "text": [
      "name                                                    Throwbacks\n",
      "collaborative                                                false\n",
      "pid                                                              0\n",
      "modified_at                                             1493424000\n",
      "num_tracks                                                      52\n",
      "num_albums                                                      47\n",
      "num_followers                                                    1\n",
      "tracks           [{'pos': 0, 'artist_name': 'Missy Elliott', 't...\n",
      "num_edits                                                        6\n",
      "duration_ms                                               11532414\n",
      "num_artists                                                     37\n",
      "description                                                    NaN\n",
      "Name: 0, dtype: object\n",
      "analyzing: Lose Control (feat. Ciara & Fat Man Scoop)\n",
      "analyzing: Toxic\n",
      "analyzing: Crazy In Love\n",
      "analyzing: Rock Your Body\n",
      "analyzing: It Wasn't Me\n",
      "analyzing: Yeah!\n",
      "analyzing: My Boo\n",
      "analyzing: Buttons\n",
      "analyzing: Say My Name\n",
      "analyzing: Hey Ya! - Radio Mix / Club Mix\n",
      "analyzing: Promiscuous\n",
      "analyzing: Right Where You Want Me - Radio Edit Version\n",
      "analyzing: Beautiful Soul\n",
      "analyzing: Leavin'\n",
      "analyzing: Me & U\n",
      "analyzing: Ice Box\n",
      "analyzing: Sk8er Boi\n",
      "analyzing: Run It!\n",
      "analyzing: Check On It - feat. Bun B and Slim Thug\n",
      "analyzing: Jumpin', Jumpin'\n",
      "analyzing: Soak Up The Sun\n",
      "analyzing: Where Is The Love?\n",
      "analyzing: Stacy's Mom\n",
      "analyzing: Just The Girl\n",
      "analyzing: Yo (Excuse Me Miss)\n",
      "analyzing: Year 3000\n",
      "analyzing: Lip Gloss\n",
      "analyzing: Everytime We Touch - Radio Edit\n",
      "analyzing: Whatcha Say\n",
      "analyzing: Miss Independent\n",
      "analyzing: Party In The U.S.A.\n",
      "analyzing: The Great Escape\n",
      "analyzing: Replay\n",
      "analyzing: Forever\n",
      "analyzing: Your Love Is My Drug\n",
      "analyzing: Closer\n",
      "analyzing: One Less Lonely Girl\n",
      "analyzing: Paper Planes\n",
      "analyzing: Mr. Brightside\n",
      "analyzing: All The Small Things\n",
      "analyzing: Beep\n",
      "analyzing: Somebody To Love\n",
      "analyzing: Dirty Little Secret\n",
      "analyzing: Baby\n",
      "analyzing: A Thousand Miles\n",
      "analyzing: Livin on Sunday\n",
      "analyzing: See You Again\n",
      "analyzing: How Do You Sleep? - Featuring Ludacris\n",
      "analyzing: This Is Me\n",
      "analyzing: My Happy Ending\n",
      "analyzing: Check Yes Juliet\n",
      "analyzing: The Great Escape\n"
     ]
    }
   ],
   "source": [
    "# select just the first playlist (for testing purposes)\n",
    "playlist = playlists_frame.iloc[0]\n",
    "playlist\n",
    "\n",
    "MAX_RETRIES = 5\n",
    "# get the songs from the first playlist\n",
    "songs = playlist['tracks']\n",
    "\n",
    "analyses = {}\n",
    "# collect analyses of songs, dict of (song id : analysis)\n",
    "for i, song in enumerate(songs):\n",
    "    song_id = re.sub('spotify:track:', '', song['track_uri'])\n",
    "    # sometimes the api request times out, we'll skip the song if it exceeds the max retries\n",
    "    for request_attempt in range(MAX_RETRIES):\n",
    "        print('analyzing: ' + song['track_name'])\n",
    "        try:\n",
    "            a = sp.audio_analysis(track_id=song_id)\n",
    "        except requests.exceptions.ReadTimeout as rto:\n",
    "            print('request to Spotify timed out for: ' + song['track_name'])\n",
    "        else:\n",
    "            break\n",
    "    else:\n",
    "        continue\n",
    "    # remove some useless crap\n",
    "    a.pop('meta')\n",
    "    analyses[song_id] = a"
   ],
   "metadata": {
    "collapsed": false,
    "pycharm": {
     "name": "#%%\n"
    }
   }
  },
  {
   "cell_type": "markdown",
   "source": [
    "Before moving on, lets check out what an analysis looks like so we can decide how we want to\n",
    "structure our data."
   ],
   "metadata": {
    "collapsed": false,
    "pycharm": {
     "name": "#%% md\n"
    }
   }
  },
  {
   "cell_type": "code",
   "execution_count": 42,
   "outputs": [
    {
     "name": "stdout",
     "output_type": "stream",
     "text": [
      "track{'num_samples': 4853940, 'duration': 220.13333, 'sample_md5': '', 'offset_seconds': 0, 'window_secon\n",
      "bars[{'start': 0.25319, 'duration': 1.43706, 'confidence': 0.471}, {'start': 1.69025, 'duration': 1.4400\n",
      "beats[{'start': 0.25319, 'duration': 0.36878, 'confidence': 0.911}, {'start': 0.62197, 'duration': 0.3587\n",
      "sections[{'start': 0.0, 'duration': 6.73147, 'confidence': 1.0, 'loudness': -10.743, 'tempo': 167.388, 'temp\n",
      "segments[{'start': 0.0, 'duration': 0.19773, 'confidence': 0.0, 'loudness_start': -60.0, 'loudness_max_time'\n",
      "tatums[{'start': 0.25319, 'duration': 0.18439, 'confidence': 0.911}, {'start': 0.43758, 'duration': 0.1843\n"
     ]
    }
   ],
   "source": [
    "# remove an (id, analysis) pair from the dictionary\n",
    "analysis_pair = analyses.popitem()\n",
    "\n",
    "# get the JSON response\n",
    "json = analysis_pair[1]\n",
    "# because the analysis is a JSON response (dictionary), we can access it like this\n",
    "[print(str(category) + str(value)[0:100]) for category, value in json.items()]\n",
    "\n",
    "# don't forget to add the pair back\n",
    "analyses[analysis_pair[0]] = analysis_pair[1]"
   ],
   "metadata": {
    "collapsed": false,
    "pycharm": {
     "name": "#%%\n"
    }
   }
  },
  {
   "cell_type": "markdown",
   "source": [
    "You know that's kind of messy, here's the [API reference](https://developer.spotify.com/documentation/web-api/reference/tracks/get-audio-analysis/)\n",
    "for the structure of an audio analysis.\n",
    "\n",
    "TL;DR, the response contains categories like `track` (special one),\n",
    "`bars`, `beats`, etc. `Track` is special because it contains more general data such as the `duration`\n",
    "and `time_signature`, these headers aren't in the other categories. The categories `bars`, `beats`,\n",
    "and `tatums`, are all composed of [time interval objects](https://developer.spotify.com/documentation/web-api/reference/tracks/get-audio-analysis/#time-interval-object)\n",
    "which are just dictionaries with the start, end and how confident Spotify is that the data is right.\n",
    "\n",
    "This brings us to `sections` and `segments`. `sections` is composed of [section objects](https://developer.spotify.com/documentation/web-api/reference/tracks/get-audio-analysis/#section-object)\n",
    "which are basically the same as the other categories, just with more dictionary keys-value pairs.\n",
    "`segments` is where it gets more interesting (and where I got stuck). Again, `segments` is composed\n",
    "of another object (aptly named) [segment objects](https://developer.spotify.com/documentation/web-api/reference/tracks/get-audio-analysis/#section-object).\n",
    "This is another dictionary with a caveat, some of the values are actually arrays, and not just an integer\n",
    "as before. At first, I thought that this nesting would be a problem, but I found that pandas takes care\n",
    "of this on its own, parsing the array as a pandas series.\n"
   ],
   "metadata": {
    "collapsed": false,
    "pycharm": {
     "name": "#%% md\n"
    }
   }
  },
  {
   "cell_type": "markdown",
   "source": [
    "#### Moving on...\n",
    "Now we have a dictionary mapping a song to its analysis JSON response. Let's loop through everything\n",
    "and parse it into a pandas Dataframe using a handy function called `json_normalize`. We're also gonna\n",
    "save the song ids for later to make creating our final dataframe a little easier.\n",
    "\n",
    "The catch here is that we're gonna split everything up by each analysis category, and then by song id."
   ],
   "metadata": {
    "collapsed": false,
    "pycharm": {
     "name": "#%% md\n"
    }
   }
  },
  {
   "cell_type": "code",
   "execution_count": 43,
   "outputs": [
    {
     "name": "stdout",
     "output_type": "stream",
     "text": [
      "processing song: 0UaMYEvWZi0ZqiDOoHU3YI\n",
      "processing category: track\n",
      "processing category: bars\n",
      "processing category: beats\n",
      "processing category: sections\n",
      "processing category: segments\n",
      "processing category: tatums\n",
      "processing song: 6I9VzXrHxO9rA9A5euc8Ak\n",
      "processing category: track\n",
      "processing category: bars\n",
      "processing category: beats\n",
      "processing category: sections\n",
      "processing category: segments\n",
      "processing category: tatums\n",
      "processing song: 0WqIKmW4BTrj3eJFmnCKMv\n",
      "processing category: track\n",
      "processing category: bars\n",
      "processing category: beats\n",
      "processing category: sections\n",
      "processing category: segments\n",
      "processing category: tatums\n",
      "processing song: 1AWQoqb9bSvzTjaLralEkT\n",
      "processing category: track\n",
      "processing category: bars\n",
      "processing category: beats\n",
      "processing category: sections\n",
      "processing category: segments\n",
      "processing category: tatums\n",
      "processing song: 1lzr43nnXAijIGYnCT8M8H\n",
      "processing category: track\n",
      "processing category: bars\n",
      "processing category: beats\n",
      "processing category: sections\n",
      "processing category: segments\n",
      "processing category: tatums\n",
      "processing song: 0XUfyU2QviPAs6bxSpXYG4\n",
      "processing category: track\n",
      "processing category: bars\n",
      "processing category: beats\n",
      "processing category: sections\n",
      "processing category: segments\n",
      "processing category: tatums\n",
      "processing song: 68vgtRHr7iZHpzGpon6Jlo\n",
      "processing category: track\n",
      "processing category: bars\n",
      "processing category: beats\n",
      "processing category: sections\n",
      "processing category: segments\n",
      "processing category: tatums\n",
      "processing song: 3BxWKCI06eQ5Od8TY2JBeA\n",
      "processing category: track\n",
      "processing category: bars\n",
      "processing category: beats\n",
      "processing category: sections\n",
      "processing category: segments\n",
      "processing category: tatums\n",
      "processing song: 7H6ev70Weq6DdpZyyTmUXk\n",
      "processing category: track\n",
      "processing category: bars\n",
      "processing category: beats\n",
      "processing category: sections\n",
      "processing category: segments\n",
      "processing category: tatums\n",
      "processing song: 2PpruBYCo4H7WOBJ7Q2EwM\n",
      "processing category: track\n",
      "processing category: bars\n",
      "processing category: beats\n",
      "processing category: sections\n",
      "processing category: segments\n",
      "processing category: tatums\n",
      "processing song: 2gam98EZKrF9XuOkU13ApN\n",
      "processing category: track\n",
      "processing category: bars\n",
      "processing category: beats\n",
      "processing category: sections\n",
      "processing category: segments\n",
      "processing category: tatums\n",
      "processing song: 4Y45aqo9QMa57rDsAJv40A\n",
      "processing category: track\n",
      "processing category: bars\n",
      "processing category: beats\n",
      "processing category: sections\n",
      "processing category: segments\n",
      "processing category: tatums\n",
      "processing song: 1HwpWwa6bnqqRhK8agG4RS\n",
      "processing category: track\n",
      "processing category: bars\n",
      "processing category: beats\n",
      "processing category: sections\n",
      "processing category: segments\n",
      "processing category: tatums\n",
      "processing song: 20ORwCJusz4KS2PbTPVNKo\n",
      "processing category: track\n",
      "processing category: bars\n",
      "processing category: beats\n",
      "processing category: sections\n",
      "processing category: segments\n",
      "processing category: tatums\n",
      "processing song: 7k6IzwMGpxnRghE7YosnXT\n",
      "processing category: track\n",
      "processing category: bars\n",
      "processing category: beats\n",
      "processing category: sections\n",
      "processing category: segments\n",
      "processing category: tatums\n",
      "processing song: 1Bv0Yl01xBDZD4OQP93fyl\n",
      "processing category: track\n",
      "processing category: bars\n",
      "processing category: beats\n",
      "processing category: sections\n",
      "processing category: segments\n",
      "processing category: tatums\n",
      "processing song: 4omisSlTk6Dsq2iQD7MA07\n",
      "processing category: track\n",
      "processing category: bars\n",
      "processing category: beats\n",
      "processing category: sections\n",
      "processing category: segments\n",
      "processing category: tatums\n",
      "processing song: 7xYnUQigPoIDAMPVK79NEq\n",
      "processing category: track\n",
      "processing category: bars\n",
      "processing category: beats\n",
      "processing category: sections\n",
      "processing category: segments\n",
      "processing category: tatums\n",
      "processing song: 6d8A5sAx9TfdeseDvfWNHd\n",
      "processing category: track\n",
      "processing category: bars\n",
      "processing category: beats\n",
      "processing category: sections\n",
      "processing category: segments\n",
      "processing category: tatums\n",
      "processing song: 4pmc2AxSEq6g7hPVlJCPyP\n",
      "processing category: track\n",
      "processing category: bars\n",
      "processing category: beats\n",
      "processing category: sections\n",
      "processing category: segments\n",
      "processing category: tatums\n",
      "processing song: 215JYyyUnrJ98NK3KEwu6d\n",
      "processing category: track\n",
      "processing category: bars\n",
      "processing category: beats\n",
      "processing category: sections\n",
      "processing category: segments\n",
      "processing category: tatums\n",
      "processing song: 0uqPG793dkDDN7sCUJJIVC\n",
      "processing category: track\n",
      "processing category: bars\n",
      "processing category: beats\n",
      "processing category: sections\n",
      "processing category: segments\n",
      "processing category: tatums\n",
      "processing song: 19Js5ypV6JKn4DMExHQbGc\n",
      "processing category: track\n",
      "processing category: bars\n",
      "processing category: beats\n",
      "processing category: sections\n",
      "processing category: segments\n",
      "processing category: tatums\n",
      "processing song: 1JURww012QnWAw0zZXi6Aa\n",
      "processing category: track\n",
      "processing category: bars\n",
      "processing category: beats\n",
      "processing category: sections\n",
      "processing category: segments\n",
      "processing category: tatums\n",
      "processing song: 7DFnq8FYhHMCylykf6ZCxA\n",
      "processing category: track\n",
      "processing category: bars\n",
      "processing category: beats\n",
      "processing category: sections\n",
      "processing category: segments\n",
      "processing category: tatums\n",
      "processing song: 1TfAhjzRBWzYZ8IdUV3igl\n",
      "processing category: track\n",
      "processing category: bars\n",
      "processing category: beats\n",
      "processing category: sections\n",
      "processing category: segments\n",
      "processing category: tatums\n",
      "processing song: 1Y4ZdPOOgCUhBcKZOrUFiS\n",
      "processing category: track\n",
      "processing category: bars\n",
      "processing category: beats\n",
      "processing category: sections\n",
      "processing category: segments\n",
      "processing category: tatums\n",
      "processing song: 6MjljecHzHelUDismyKkba\n",
      "processing category: track\n",
      "processing category: bars\n",
      "processing category: beats\n",
      "processing category: sections\n",
      "processing category: segments\n",
      "processing category: tatums\n",
      "processing song: 67T6l4q3zVjC5nZZPXByU8\n",
      "processing category: track\n",
      "processing category: bars\n",
      "processing category: beats\n",
      "processing category: sections\n",
      "processing category: segments\n",
      "processing category: tatums\n",
      "processing song: 34ceTg8ChN5HjrqiIYCn9Q\n",
      "processing category: track\n",
      "processing category: bars\n",
      "processing category: beats\n",
      "processing category: sections\n",
      "processing category: segments\n",
      "processing category: tatums\n",
      "processing song: 5Q0Nhxo0l2bP3pNjpGJwV1\n",
      "processing category: track\n",
      "processing category: bars\n",
      "processing category: beats\n",
      "processing category: sections\n",
      "processing category: segments\n",
      "processing category: tatums\n",
      "processing song: 6GIrIt2M39wEGwjCQjGChX\n",
      "processing category: track\n",
      "processing category: bars\n",
      "processing category: beats\n",
      "processing category: sections\n",
      "processing category: segments\n",
      "processing category: tatums\n",
      "processing song: 4E5P1XyAFtrjpiIxkydly4\n",
      "processing category: track\n",
      "processing category: bars\n",
      "processing category: beats\n",
      "processing category: sections\n",
      "processing category: segments\n",
      "processing category: tatums\n",
      "processing song: 3H1LCvO3fVsK2HPguhbml0\n",
      "processing category: track\n",
      "processing category: bars\n",
      "processing category: beats\n",
      "processing category: sections\n",
      "processing category: segments\n",
      "processing category: tatums\n",
      "processing song: 3uoQULcUWfnt6nc6J7Vgai\n",
      "processing category: track\n",
      "processing category: bars\n",
      "processing category: beats\n",
      "processing category: sections\n",
      "processing category: segments\n",
      "processing category: tatums\n",
      "processing song: 2nbClS09zsIAqNkshg6jnp\n",
      "processing category: track\n",
      "processing category: bars\n",
      "processing category: beats\n",
      "processing category: sections\n",
      "processing category: segments\n",
      "processing category: tatums\n",
      "processing song: 69ghzc538EQSVon2Gm3wrr\n",
      "processing category: track\n",
      "processing category: bars\n",
      "processing category: beats\n",
      "processing category: sections\n",
      "processing category: segments\n",
      "processing category: tatums\n",
      "processing song: 1kusepF3AacIEtUTYrw4GV\n",
      "processing category: track\n",
      "processing category: bars\n",
      "processing category: beats\n",
      "processing category: sections\n",
      "processing category: segments\n",
      "processing category: tatums\n",
      "processing song: 7oK9VyNzrYvRFo7nQEYkWN\n",
      "processing category: track\n",
      "processing category: bars\n",
      "processing category: beats\n",
      "processing category: sections\n",
      "processing category: segments\n",
      "processing category: tatums\n",
      "processing song: 12qZHAeOyTf93YAWvGDTat\n",
      "processing category: track\n",
      "processing category: bars\n",
      "processing category: beats\n",
      "processing category: sections\n",
      "processing category: segments\n",
      "processing category: tatums\n",
      "processing song: 2jFlMILIQzs7lSFudG9lbo\n",
      "processing category: track\n",
      "processing category: bars\n",
      "processing category: beats\n",
      "processing category: sections\n",
      "processing category: segments\n",
      "processing category: tatums\n",
      "processing song: 4I2GqMe7L2ccMpUbnDzYLH\n",
      "processing category: track\n",
      "processing category: bars\n",
      "processing category: beats\n",
      "processing category: sections\n",
      "processing category: segments\n",
      "processing category: tatums\n",
      "processing song: 5lDriBxJd22IhOH9zTcFrV\n",
      "processing category: track\n",
      "processing category: bars\n",
      "processing category: beats\n",
      "processing category: sections\n",
      "processing category: segments\n",
      "processing category: tatums\n",
      "processing song: 2eJ8ij1T3cNUKiGdcUvKhy\n",
      "processing category: track\n",
      "processing category: bars\n",
      "processing category: beats\n",
      "processing category: sections\n",
      "processing category: segments\n",
      "processing category: tatums\n",
      "processing song: 5y69gQtK33qxb8a24ACkCy\n",
      "processing category: track\n",
      "processing category: bars\n",
      "processing category: beats\n",
      "processing category: sections\n",
      "processing category: segments\n",
      "processing category: tatums\n",
      "processing song: 1X5WGCrUMuwRFuYU1eAo2I\n",
      "processing category: track\n",
      "processing category: bars\n",
      "processing category: beats\n",
      "processing category: sections\n",
      "processing category: segments\n",
      "processing category: tatums\n",
      "processing song: 3utIAb67sOu0QHxBE88P1M\n",
      "processing category: track\n",
      "processing category: bars\n",
      "processing category: beats\n",
      "processing category: sections\n",
      "processing category: segments\n",
      "processing category: tatums\n",
      "processing song: 3jkdQNkDTxxXtjSO4l0o1H\n",
      "processing category: track\n",
      "processing category: bars\n",
      "processing category: beats\n",
      "processing category: sections\n",
      "processing category: segments\n",
      "processing category: tatums\n",
      "processing song: 5c1sfI6wIQEsSUw0xrkFdl\n",
      "processing category: track\n",
      "processing category: bars\n",
      "processing category: beats\n",
      "processing category: sections\n",
      "processing category: segments\n",
      "processing category: tatums\n",
      "processing song: 6sqNctd7MlJoKDOxPVCAvU\n",
      "processing category: track\n",
      "processing category: bars\n",
      "processing category: beats\n",
      "processing category: sections\n",
      "processing category: segments\n",
      "processing category: tatums\n",
      "processing song: 1b7vg5T9YKR3NNqXfBYRF7\n",
      "processing category: track\n",
      "processing category: bars\n",
      "processing category: beats\n",
      "processing category: sections\n",
      "processing category: segments\n",
      "processing category: tatums\n",
      "track\n",
      "bars\n",
      "beats\n",
      "sections\n",
      "segments\n",
      "tatums\n"
     ]
    },
    {
     "data": {
      "text/plain": "[None, None, None, None, None, None]"
     },
     "execution_count": 43,
     "metadata": {},
     "output_type": "execute_result"
    }
   ],
   "source": [
    "ids = []\n",
    "category_frames = {}\n",
    "# iterate through all songs and their analyses\n",
    "for song_id, a in analyses.items():\n",
    "    print('processing song: ' + song_id)\n",
    "    ids.append(song_id)\n",
    "    # collect the analysis data for each category in the songs' analysis\n",
    "    for category, vals in a.items():\n",
    "        print('processing category: ' + category)\n",
    "        norm = pd.json_normalize(vals)\n",
    "        # val_list is a list of dataframes\n",
    "        val_list = category_frames.get(category, [])\n",
    "        # add the new analysis data for the category\n",
    "        val_list.append(norm)\n",
    "        category_frames[category] = val_list\n",
    "\n",
    "[print(name) for name, frame_list in category_frames.items()]"
   ],
   "metadata": {
    "collapsed": false,
    "pycharm": {
     "name": "#%%\n"
    }
   }
  },
  {
   "cell_type": "markdown",
   "source": [
    "Finally, we're getting a little closer to our final, 2 leveled multi-index pandas Dataframe.\n",
    "We're going to use our `ids` array we created earlier to concatenate dataframes by their song ids.\n",
    "This is the second, inner-level multi-index."
   ],
   "metadata": {
    "collapsed": false,
    "pycharm": {
     "name": "#%% md\n"
    }
   }
  },
  {
   "cell_type": "code",
   "execution_count": 44,
   "outputs": [],
   "source": [
    "category_tables = {}\n",
    "# concatenate the list of frames in each category to make tables based on song id\n",
    "for cat_name, frame_list in category_frames.items():\n",
    "    category_tables[cat_name] = pd.concat(frame_list, keys=ids)"
   ],
   "metadata": {
    "collapsed": false,
    "pycharm": {
     "name": "#%%\n"
    }
   }
  },
  {
   "cell_type": "markdown",
   "source": [
    "Then we can concatenate again based off of the category names to create our outermost multi-index."
   ],
   "metadata": {
    "collapsed": false,
    "pycharm": {
     "name": "#%% md\n"
    }
   }
  },
  {
   "cell_type": "code",
   "execution_count": 45,
   "outputs": [],
   "source": [
    "# combine the dictionary of categories and their lists of songs\n",
    "category_tables_frame = pd.concat(category_tables.values(), keys=category_tables.keys())"
   ],
   "metadata": {
    "collapsed": false,
    "pycharm": {
     "name": "#%%\n"
    }
   }
  },
  {
   "cell_type": "markdown",
   "source": [
    "Our final pandas dataframe has a structure like this:\n",
    "\n",
    "| level=0   |     level=1           |     start    | ... | timbre            |\n",
    "| :-: | :-: | :-: | :-: | --- |\n",
    "| segments  | 3ELm3eyRhR4tF1ncqzMQEV|   252.15601  | ... | [pandas.Series]   |\n",
    "|    -       |           -            |   258.15601  | ... | [pandas.Series]   |\n",
    "|     -      |           -            |   259.15601  | ... | [pandas.Series]   |\n",
    "|      -     |           -            |   261.15601  | ... | [pandas.Series]   |\n",
    "|        -   | 2pbxqEYiXJTvFsybGGgSAi|   237.02356  | ... | [pandas.Series]   |\n",
    "|       -    |           -            |   248.15601  | ... | [pandas.Series]   |\n",
    "|      -     |           -            |   249.15601  | ... | [pandas.Series]   |\n",
    "|      -     |           -            |   251.15601  | ... | [pandas.Series]   |\n",
    "| tatums  | 3ELm3eyRhR4tF1ncqzMQEV|   252.15601  | ... | NaN   |\n",
    "|    -       |           -            |   258.15601  | ... | NaN   |\n",
    "|     -      |           -            |   259.15601  | ... | NaN   |\n",
    "|      -     |           -            |   261.15601  | ... | NaN   |\n",
    "|        -   | 2pbxqEYiXJTvFsybGGgSAi|   237.02356  | ... | NaN   |\n",
    "|       -    |           -            |   248.15601  | ... | NaN  |\n",
    "|      -     |           -            |   249.15601  | ... | NaN   |\n",
    "|      -     |           -            |   251.15601  | ... | NaN   |"
   ],
   "metadata": {
    "collapsed": false,
    "pycharm": {
     "name": "#%% md\n"
    }
   }
  },
  {
   "cell_type": "markdown",
   "source": [
    "Let's combine all of that into a function that returns our completed dataframe."
   ],
   "metadata": {
    "collapsed": false,
    "pycharm": {
     "name": "#%% md\n"
    }
   }
  },
  {
   "cell_type": "code",
   "execution_count": 46,
   "outputs": [],
   "source": [
    "# this function creates a multi-index dataframe and exports it to csv\n",
    "# - level 1 is the category of the analysis\n",
    "# - level 2 is the song id for the data\n",
    "\n",
    "def processAnalyses(playlist, sp, path='playlist_frames/'):\n",
    "    # get the songs from the first playlist\n",
    "    songs = playlist['tracks']\n",
    "\n",
    "    analyses = {}\n",
    "    # collect analyses of songs, dict of (song id : analysis)\n",
    "    for i, song in enumerate(songs):\n",
    "        song_id = re.sub('spotify:track:', '', song['track_uri'])\n",
    "        # sometimes the api request times out, we'll skip the song if it exceeds the max retries\n",
    "        for request_attempt in range(MAX_RETRIES):\n",
    "            print('analyzing: ' + song['track_name'])\n",
    "            try:\n",
    "                a = sp.audio_analysis(track_id=song_id)\n",
    "            except requests.exceptions.ReadTimeout as rto:\n",
    "                print('request to Spotify timed out for: ' + song['track_name'])\n",
    "            else:\n",
    "                break\n",
    "        else:\n",
    "            continue\n",
    "        # remove some useless crap\n",
    "        a.pop('meta')\n",
    "        analyses[song_id] = a\n",
    "\n",
    "    ids = []\n",
    "    category_frames = {}\n",
    "    # iterate through all songs and their analyses\n",
    "    for song_id, a in analyses.items():\n",
    "        print('processing song: ' + song_id)\n",
    "        ids.append(song_id)\n",
    "        # collect the analysis data for each category in the songs' analysis\n",
    "        for category, vals in a.items():\n",
    "            print('processing category: ' + category)\n",
    "            norm = pd.json_normalize(vals)\n",
    "            # val_list is a list of dataframes\n",
    "            val_list = category_frames.get(category, [])\n",
    "            # add the new analysis data for the category\n",
    "            val_list.append(norm)\n",
    "            category_frames[category] = val_list\n",
    "\n",
    "    category_tables = {}\n",
    "    # concatenate the list of frames in each category to make tables based on song id\n",
    "    for cat_name, frame_list in category_frames.items():\n",
    "        category_tables[cat_name] = pd.concat(frame_list, keys=ids)\n",
    "\n",
    "    # combine the dictionary of categories and their lists of songs\n",
    "    category_tables_frame = pd.concat(category_tables.values(), keys=category_tables.keys())\n",
    "\n",
    "    # export the data to csv\n",
    "    file_name = playlist['pid']\n",
    "    category_tables_frame.to_csv(path + str(file_name) + '.csv')\n",
    "\n",
    "    return category_tables_frame\n",
    "\n",
    "    # enable to export individual tables for each category, grouped by song\n",
    "    # not really needed if you use groupby\n",
    "    \"\"\"\n",
    "    export_dir = playlist['name'] + '-' + playlist['pid']\n",
    "    if not os.path.isdir(export_dir):\n",
    "        os.mkdir(export_dir)\n",
    "\n",
    "    print(category_tables.keys())\n",
    "    for category, table in category_tables.items():\n",
    "        print(category)\n",
    "        idx = pd.IndexSlice\n",
    "        table.to_csv(export_dir + '/' + category + '.csv')\"\"\""
   ],
   "metadata": {
    "collapsed": false,
    "pycharm": {
     "name": "#%%\n"
    }
   }
  },
  {
   "cell_type": "markdown",
   "source": [
    "Just to check that everything's working, we'll call our brand new function"
   ],
   "metadata": {
    "collapsed": false,
    "pycharm": {
     "name": "#%% md\n"
    }
   }
  },
  {
   "cell_type": "code",
   "execution_count": 89,
   "outputs": [
    {
     "name": "stdout",
     "output_type": "stream",
     "text": [
      "analyzing: Lose Control (feat. Ciara & Fat Man Scoop)\n",
      "analyzing: Toxic\n",
      "analyzing: Crazy In Love\n",
      "request to Spotify timed out for: Crazy In Love\n",
      "analyzing: Crazy In Love\n",
      "analyzing: Rock Your Body\n",
      "analyzing: It Wasn't Me\n",
      "analyzing: Yeah!\n",
      "analyzing: My Boo\n",
      "analyzing: Buttons\n",
      "analyzing: Say My Name\n",
      "analyzing: Hey Ya! - Radio Mix / Club Mix\n",
      "analyzing: Promiscuous\n",
      "analyzing: Right Where You Want Me - Radio Edit Version\n",
      "analyzing: Beautiful Soul\n",
      "analyzing: Leavin'\n",
      "analyzing: Me & U\n",
      "analyzing: Ice Box\n",
      "analyzing: Sk8er Boi\n",
      "analyzing: Run It!\n",
      "analyzing: Check On It - feat. Bun B and Slim Thug\n",
      "analyzing: Jumpin', Jumpin'\n",
      "analyzing: Soak Up The Sun\n",
      "analyzing: Where Is The Love?\n",
      "analyzing: Stacy's Mom\n",
      "analyzing: Just The Girl\n",
      "analyzing: Yo (Excuse Me Miss)\n",
      "analyzing: Year 3000\n",
      "analyzing: Lip Gloss\n",
      "analyzing: Everytime We Touch - Radio Edit\n",
      "analyzing: Whatcha Say\n",
      "analyzing: Miss Independent\n",
      "analyzing: Party In The U.S.A.\n",
      "analyzing: The Great Escape\n",
      "analyzing: Replay\n",
      "analyzing: Forever\n",
      "analyzing: Your Love Is My Drug\n",
      "analyzing: Closer\n",
      "analyzing: One Less Lonely Girl\n",
      "analyzing: Paper Planes\n",
      "analyzing: Mr. Brightside\n",
      "analyzing: All The Small Things\n",
      "analyzing: Beep\n",
      "analyzing: Somebody To Love\n",
      "analyzing: Dirty Little Secret\n",
      "analyzing: Baby\n",
      "analyzing: A Thousand Miles\n",
      "analyzing: Livin on Sunday\n",
      "analyzing: See You Again\n",
      "analyzing: How Do You Sleep? - Featuring Ludacris\n",
      "analyzing: This Is Me\n",
      "analyzing: My Happy Ending\n",
      "analyzing: Check Yes Juliet\n",
      "analyzing: The Great Escape\n",
      "processing song: 0UaMYEvWZi0ZqiDOoHU3YI\n",
      "processing category: track\n",
      "processing category: bars\n",
      "processing category: beats\n",
      "processing category: sections\n",
      "processing category: segments\n",
      "processing category: tatums\n",
      "processing song: 6I9VzXrHxO9rA9A5euc8Ak\n",
      "processing category: track\n",
      "processing category: bars\n",
      "processing category: beats\n",
      "processing category: sections\n",
      "processing category: segments\n",
      "processing category: tatums\n",
      "processing song: 0WqIKmW4BTrj3eJFmnCKMv\n",
      "processing category: track\n",
      "processing category: bars\n",
      "processing category: beats\n",
      "processing category: sections\n",
      "processing category: segments\n",
      "processing category: tatums\n",
      "processing song: 1AWQoqb9bSvzTjaLralEkT\n",
      "processing category: track\n",
      "processing category: bars\n",
      "processing category: beats\n",
      "processing category: sections\n",
      "processing category: segments\n",
      "processing category: tatums\n",
      "processing song: 1lzr43nnXAijIGYnCT8M8H\n",
      "processing category: track\n",
      "processing category: bars\n",
      "processing category: beats\n",
      "processing category: sections\n",
      "processing category: segments\n",
      "processing category: tatums\n",
      "processing song: 0XUfyU2QviPAs6bxSpXYG4\n",
      "processing category: track\n",
      "processing category: bars\n",
      "processing category: beats\n",
      "processing category: sections\n",
      "processing category: segments\n",
      "processing category: tatums\n",
      "processing song: 68vgtRHr7iZHpzGpon6Jlo\n",
      "processing category: track\n",
      "processing category: bars\n",
      "processing category: beats\n",
      "processing category: sections\n",
      "processing category: segments\n",
      "processing category: tatums\n",
      "processing song: 3BxWKCI06eQ5Od8TY2JBeA\n",
      "processing category: track\n",
      "processing category: bars\n",
      "processing category: beats\n",
      "processing category: sections\n",
      "processing category: segments\n",
      "processing category: tatums\n",
      "processing song: 7H6ev70Weq6DdpZyyTmUXk\n",
      "processing category: track\n",
      "processing category: bars\n",
      "processing category: beats\n",
      "processing category: sections\n",
      "processing category: segments\n",
      "processing category: tatums\n",
      "processing song: 2PpruBYCo4H7WOBJ7Q2EwM\n",
      "processing category: track\n",
      "processing category: bars\n",
      "processing category: beats\n",
      "processing category: sections\n",
      "processing category: segments\n",
      "processing category: tatums\n",
      "processing song: 2gam98EZKrF9XuOkU13ApN\n",
      "processing category: track\n",
      "processing category: bars\n",
      "processing category: beats\n",
      "processing category: sections\n",
      "processing category: segments\n",
      "processing category: tatums\n",
      "processing song: 4Y45aqo9QMa57rDsAJv40A\n",
      "processing category: track\n",
      "processing category: bars\n",
      "processing category: beats\n",
      "processing category: sections\n",
      "processing category: segments\n",
      "processing category: tatums\n",
      "processing song: 1HwpWwa6bnqqRhK8agG4RS\n",
      "processing category: track\n",
      "processing category: bars\n",
      "processing category: beats\n",
      "processing category: sections\n",
      "processing category: segments\n",
      "processing category: tatums\n",
      "processing song: 20ORwCJusz4KS2PbTPVNKo\n",
      "processing category: track\n",
      "processing category: bars\n",
      "processing category: beats\n",
      "processing category: sections\n",
      "processing category: segments\n",
      "processing category: tatums\n",
      "processing song: 7k6IzwMGpxnRghE7YosnXT\n",
      "processing category: track\n",
      "processing category: bars\n",
      "processing category: beats\n",
      "processing category: sections\n",
      "processing category: segments\n",
      "processing category: tatums\n",
      "processing song: 1Bv0Yl01xBDZD4OQP93fyl\n",
      "processing category: track\n",
      "processing category: bars\n",
      "processing category: beats\n",
      "processing category: sections\n",
      "processing category: segments\n",
      "processing category: tatums\n",
      "processing song: 4omisSlTk6Dsq2iQD7MA07\n",
      "processing category: track\n",
      "processing category: bars\n",
      "processing category: beats\n",
      "processing category: sections\n",
      "processing category: segments\n",
      "processing category: tatums\n",
      "processing song: 7xYnUQigPoIDAMPVK79NEq\n",
      "processing category: track\n",
      "processing category: bars\n",
      "processing category: beats\n",
      "processing category: sections\n",
      "processing category: segments\n",
      "processing category: tatums\n",
      "processing song: 6d8A5sAx9TfdeseDvfWNHd\n",
      "processing category: track\n",
      "processing category: bars\n",
      "processing category: beats\n",
      "processing category: sections\n",
      "processing category: segments\n",
      "processing category: tatums\n",
      "processing song: 4pmc2AxSEq6g7hPVlJCPyP\n",
      "processing category: track\n",
      "processing category: bars\n",
      "processing category: beats\n",
      "processing category: sections\n",
      "processing category: segments\n",
      "processing category: tatums\n",
      "processing song: 215JYyyUnrJ98NK3KEwu6d\n",
      "processing category: track\n",
      "processing category: bars\n",
      "processing category: beats\n",
      "processing category: sections\n",
      "processing category: segments\n",
      "processing category: tatums\n",
      "processing song: 0uqPG793dkDDN7sCUJJIVC\n",
      "processing category: track\n",
      "processing category: bars\n",
      "processing category: beats\n",
      "processing category: sections\n",
      "processing category: segments\n",
      "processing category: tatums\n",
      "processing song: 19Js5ypV6JKn4DMExHQbGc\n",
      "processing category: track\n",
      "processing category: bars\n",
      "processing category: beats\n",
      "processing category: sections\n",
      "processing category: segments\n",
      "processing category: tatums\n",
      "processing song: 1JURww012QnWAw0zZXi6Aa\n",
      "processing category: track\n",
      "processing category: bars\n",
      "processing category: beats\n",
      "processing category: sections\n",
      "processing category: segments\n",
      "processing category: tatums\n",
      "processing song: 7DFnq8FYhHMCylykf6ZCxA\n",
      "processing category: track\n",
      "processing category: bars\n",
      "processing category: beats\n",
      "processing category: sections\n",
      "processing category: segments\n",
      "processing category: tatums\n",
      "processing song: 1TfAhjzRBWzYZ8IdUV3igl\n",
      "processing category: track\n",
      "processing category: bars\n",
      "processing category: beats\n",
      "processing category: sections\n",
      "processing category: segments\n",
      "processing category: tatums\n",
      "processing song: 1Y4ZdPOOgCUhBcKZOrUFiS\n",
      "processing category: track\n",
      "processing category: bars\n",
      "processing category: beats\n",
      "processing category: sections\n",
      "processing category: segments\n",
      "processing category: tatums\n",
      "processing song: 6MjljecHzHelUDismyKkba\n",
      "processing category: track\n",
      "processing category: bars\n",
      "processing category: beats\n",
      "processing category: sections\n",
      "processing category: segments\n",
      "processing category: tatums\n",
      "processing song: 67T6l4q3zVjC5nZZPXByU8\n",
      "processing category: track\n",
      "processing category: bars\n",
      "processing category: beats\n",
      "processing category: sections\n",
      "processing category: segments\n",
      "processing category: tatums\n",
      "processing song: 34ceTg8ChN5HjrqiIYCn9Q\n",
      "processing category: track\n",
      "processing category: bars\n",
      "processing category: beats\n",
      "processing category: sections\n",
      "processing category: segments\n",
      "processing category: tatums\n",
      "processing song: 5Q0Nhxo0l2bP3pNjpGJwV1\n",
      "processing category: track\n",
      "processing category: bars\n",
      "processing category: beats\n",
      "processing category: sections\n",
      "processing category: segments\n",
      "processing category: tatums\n",
      "processing song: 6GIrIt2M39wEGwjCQjGChX\n",
      "processing category: track\n",
      "processing category: bars\n",
      "processing category: beats\n",
      "processing category: sections\n",
      "processing category: segments\n",
      "processing category: tatums\n",
      "processing song: 4E5P1XyAFtrjpiIxkydly4\n",
      "processing category: track\n",
      "processing category: bars\n",
      "processing category: beats\n",
      "processing category: sections\n",
      "processing category: segments\n",
      "processing category: tatums\n",
      "processing song: 3H1LCvO3fVsK2HPguhbml0\n",
      "processing category: track\n",
      "processing category: bars\n",
      "processing category: beats\n",
      "processing category: sections\n",
      "processing category: segments\n",
      "processing category: tatums\n",
      "processing song: 3uoQULcUWfnt6nc6J7Vgai\n",
      "processing category: track\n",
      "processing category: bars\n",
      "processing category: beats\n",
      "processing category: sections\n",
      "processing category: segments\n",
      "processing category: tatums\n",
      "processing song: 2nbClS09zsIAqNkshg6jnp\n",
      "processing category: track\n",
      "processing category: bars\n",
      "processing category: beats\n",
      "processing category: sections\n",
      "processing category: segments\n",
      "processing category: tatums\n",
      "processing song: 69ghzc538EQSVon2Gm3wrr\n",
      "processing category: track\n",
      "processing category: bars\n",
      "processing category: beats\n",
      "processing category: sections\n",
      "processing category: segments\n",
      "processing category: tatums\n",
      "processing song: 1kusepF3AacIEtUTYrw4GV\n",
      "processing category: track\n",
      "processing category: bars\n",
      "processing category: beats\n",
      "processing category: sections\n",
      "processing category: segments\n",
      "processing category: tatums\n",
      "processing song: 7oK9VyNzrYvRFo7nQEYkWN\n",
      "processing category: track\n",
      "processing category: bars\n",
      "processing category: beats\n",
      "processing category: sections\n",
      "processing category: segments\n",
      "processing category: tatums\n",
      "processing song: 12qZHAeOyTf93YAWvGDTat\n",
      "processing category: track\n",
      "processing category: bars\n",
      "processing category: beats\n",
      "processing category: sections\n",
      "processing category: segments\n",
      "processing category: tatums\n",
      "processing song: 2jFlMILIQzs7lSFudG9lbo\n",
      "processing category: track\n",
      "processing category: bars\n",
      "processing category: beats\n",
      "processing category: sections\n",
      "processing category: segments\n",
      "processing category: tatums\n",
      "processing song: 4I2GqMe7L2ccMpUbnDzYLH\n",
      "processing category: track\n",
      "processing category: bars\n",
      "processing category: beats\n",
      "processing category: sections\n",
      "processing category: segments\n",
      "processing category: tatums\n",
      "processing song: 5lDriBxJd22IhOH9zTcFrV\n",
      "processing category: track\n",
      "processing category: bars\n",
      "processing category: beats\n",
      "processing category: sections\n",
      "processing category: segments\n",
      "processing category: tatums\n",
      "processing song: 2eJ8ij1T3cNUKiGdcUvKhy\n",
      "processing category: track\n",
      "processing category: bars\n",
      "processing category: beats\n",
      "processing category: sections\n",
      "processing category: segments\n",
      "processing category: tatums\n",
      "processing song: 5y69gQtK33qxb8a24ACkCy\n",
      "processing category: track\n",
      "processing category: bars\n",
      "processing category: beats\n",
      "processing category: sections\n",
      "processing category: segments\n",
      "processing category: tatums\n",
      "processing song: 1X5WGCrUMuwRFuYU1eAo2I\n",
      "processing category: track\n",
      "processing category: bars\n",
      "processing category: beats\n",
      "processing category: sections\n",
      "processing category: segments\n",
      "processing category: tatums\n",
      "processing song: 3utIAb67sOu0QHxBE88P1M\n",
      "processing category: track\n",
      "processing category: bars\n",
      "processing category: beats\n",
      "processing category: sections\n",
      "processing category: segments\n",
      "processing category: tatums\n",
      "processing song: 3jkdQNkDTxxXtjSO4l0o1H\n",
      "processing category: track\n",
      "processing category: bars\n",
      "processing category: beats\n",
      "processing category: sections\n",
      "processing category: segments\n",
      "processing category: tatums\n",
      "processing song: 5c1sfI6wIQEsSUw0xrkFdl\n",
      "processing category: track\n",
      "processing category: bars\n",
      "processing category: beats\n",
      "processing category: sections\n",
      "processing category: segments\n",
      "processing category: tatums\n",
      "processing song: 6sqNctd7MlJoKDOxPVCAvU\n",
      "processing category: track\n",
      "processing category: bars\n",
      "processing category: beats\n",
      "processing category: sections\n",
      "processing category: segments\n",
      "processing category: tatums\n",
      "processing song: 1b7vg5T9YKR3NNqXfBYRF7\n",
      "processing category: track\n",
      "processing category: bars\n",
      "processing category: beats\n",
      "processing category: sections\n",
      "processing category: segments\n",
      "processing category: tatums\n"
     ]
    },
    {
     "data": {
      "text/plain": "                                    num_samples   duration sample_md5  \\\ntrack  0UaMYEvWZi0ZqiDOoHU3YI 0       5002341.0  226.86354              \n       6I9VzXrHxO9rA9A5euc8Ak 0       4383540.0  198.80000              \n       0WqIKmW4BTrj3eJFmnCKMv 0       5202330.0  235.93333              \n       1AWQoqb9bSvzTjaLralEkT 0       5893230.0  267.26666              \n       1lzr43nnXAijIGYnCT8M8H 0       5018580.0  227.60000              \n...                                         ...        ...        ...   \ntatums 1b7vg5T9YKR3NNqXfBYRF7 1209          NaN    0.18137        NaN   \n                              1210          NaN    0.18133        NaN   \n                              1211          NaN    0.18133        NaN   \n                              1212          NaN    0.18133        NaN   \n                              1213          NaN    0.18133        NaN   \n\n                                    offset_seconds  window_seconds  \\\ntrack  0UaMYEvWZi0ZqiDOoHU3YI 0                0.0             0.0   \n       6I9VzXrHxO9rA9A5euc8Ak 0                0.0             0.0   \n       0WqIKmW4BTrj3eJFmnCKMv 0                0.0             0.0   \n       1AWQoqb9bSvzTjaLralEkT 0                0.0             0.0   \n       1lzr43nnXAijIGYnCT8M8H 0                0.0             0.0   \n...                                            ...             ...   \ntatums 1b7vg5T9YKR3NNqXfBYRF7 1209             NaN             NaN   \n                              1210             NaN             NaN   \n                              1211             NaN             NaN   \n                              1212             NaN             NaN   \n                              1213             NaN             NaN   \n\n                                    analysis_sample_rate  analysis_channels  \\\ntrack  0UaMYEvWZi0ZqiDOoHU3YI 0                  22050.0                1.0   \n       6I9VzXrHxO9rA9A5euc8Ak 0                  22050.0                1.0   \n       0WqIKmW4BTrj3eJFmnCKMv 0                  22050.0                1.0   \n       1AWQoqb9bSvzTjaLralEkT 0                  22050.0                1.0   \n       1lzr43nnXAijIGYnCT8M8H 0                  22050.0                1.0   \n...                                                  ...                ...   \ntatums 1b7vg5T9YKR3NNqXfBYRF7 1209                   NaN                NaN   \n                              1210                   NaN                NaN   \n                              1211                   NaN                NaN   \n                              1212                   NaN                NaN   \n                              1213                   NaN                NaN   \n\n                                    end_of_fade_in  start_of_fade_out  \\\ntrack  0UaMYEvWZi0ZqiDOoHU3YI 0            0.21469          226.86354   \n       6I9VzXrHxO9rA9A5euc8Ak 0            0.22617          198.80000   \n       0WqIKmW4BTrj3eJFmnCKMv 0            0.37664          226.50485   \n       1AWQoqb9bSvzTjaLralEkT 0            0.25011          255.08862   \n       1lzr43nnXAijIGYnCT8M8H 0            0.00000          223.10313   \n...                                            ...                ...   \ntatums 1b7vg5T9YKR3NNqXfBYRF7 1209             NaN                NaN   \n                              1210             NaN                NaN   \n                              1211             NaN                NaN   \n                              1212             NaN                NaN   \n                              1213             NaN                NaN   \n\n                                    loudness  ...  \\\ntrack  0UaMYEvWZi0ZqiDOoHU3YI 0       -7.105  ...   \n       6I9VzXrHxO9rA9A5euc8Ak 0       -3.914  ...   \n       0WqIKmW4BTrj3eJFmnCKMv 0       -6.583  ...   \n       1AWQoqb9bSvzTjaLralEkT 0       -6.055  ...   \n       1lzr43nnXAijIGYnCT8M8H 0       -4.596  ...   \n...                                      ...  ...   \ntatums 1b7vg5T9YKR3NNqXfBYRF7 1209       NaN  ...   \n                              1210       NaN  ...   \n                              1211       NaN  ...   \n                              1212       NaN  ...   \n                              1213       NaN  ...   \n\n                                                                         rhythmstring  \\\ntrack  0UaMYEvWZi0ZqiDOoHU3YI 0     eJxlnAuy5Davg7fSS9D7sf-NXQIf5TP5b1VSk-l22xJFgi...   \n       6I9VzXrHxO9rA9A5euc8Ak 0     eJx9WweS5DgO_IqeQG_-_7FDGlKq3omL2N7pUksUCZtIoH...   \n       0WqIKmW4BTrj3eJFmnCKMv 0     eJxtnAmWIzkOQ6_iI4So_f4XGwGfCjur572urkw7Fi0kCI...   \n       1AWQoqb9bSvzTjaLralEkT 0     eJx1nAmSYzmORK-iI3Bf7n-xIfw5KUVWj1lXR6TiLyRWhw...   \n       1lzr43nnXAijIGYnCT8M8H 0     eJxlXAmyHMmKvEodIfbl_hdrfCEzn9rs90iqyiWCAMdxqK...   \n...                                                                               ...   \ntatums 1b7vg5T9YKR3NNqXfBYRF7 1209                                                NaN   \n                              1210                                                NaN   \n                              1211                                                NaN   \n                              1212                                                NaN   \n                              1213                                                NaN   \n\n                                    rhythm_version      start  confidence  \\\ntrack  0UaMYEvWZi0ZqiDOoHU3YI 0                1.0        NaN         NaN   \n       6I9VzXrHxO9rA9A5euc8Ak 0                1.0        NaN         NaN   \n       0WqIKmW4BTrj3eJFmnCKMv 0                1.0        NaN         NaN   \n       1AWQoqb9bSvzTjaLralEkT 0                1.0        NaN         NaN   \n       1lzr43nnXAijIGYnCT8M8H 0                1.0        NaN         NaN   \n...                                            ...        ...         ...   \ntatums 1b7vg5T9YKR3NNqXfBYRF7 1209             NaN  216.92876       0.118   \n                              1210             NaN  217.11012       0.052   \n                              1211             NaN  217.29144       0.052   \n                              1212             NaN  217.47278       0.037   \n                              1213             NaN  217.65411       0.037   \n\n                                    loudness_start  loudness_max_time  \\\ntrack  0UaMYEvWZi0ZqiDOoHU3YI 0                NaN                NaN   \n       6I9VzXrHxO9rA9A5euc8Ak 0                NaN                NaN   \n       0WqIKmW4BTrj3eJFmnCKMv 0                NaN                NaN   \n       1AWQoqb9bSvzTjaLralEkT 0                NaN                NaN   \n       1lzr43nnXAijIGYnCT8M8H 0                NaN                NaN   \n...                                            ...                ...   \ntatums 1b7vg5T9YKR3NNqXfBYRF7 1209             NaN                NaN   \n                              1210             NaN                NaN   \n                              1211             NaN                NaN   \n                              1212             NaN                NaN   \n                              1213             NaN                NaN   \n\n                                    loudness_max  loudness_end pitches  timbre  \ntrack  0UaMYEvWZi0ZqiDOoHU3YI 0              NaN           NaN     NaN     NaN  \n       6I9VzXrHxO9rA9A5euc8Ak 0              NaN           NaN     NaN     NaN  \n       0WqIKmW4BTrj3eJFmnCKMv 0              NaN           NaN     NaN     NaN  \n       1AWQoqb9bSvzTjaLralEkT 0              NaN           NaN     NaN     NaN  \n       1lzr43nnXAijIGYnCT8M8H 0              NaN           NaN     NaN     NaN  \n...                                          ...           ...     ...     ...  \ntatums 1b7vg5T9YKR3NNqXfBYRF7 1209           NaN           NaN     NaN     NaN  \n                              1210           NaN           NaN     NaN     NaN  \n                              1211           NaN           NaN     NaN     NaN  \n                              1212           NaN           NaN     NaN     NaN  \n                              1213           NaN           NaN     NaN     NaN  \n\n[118171 rows x 34 columns]",
      "text/html": "<div>\n<style scoped>\n    .dataframe tbody tr th:only-of-type {\n        vertical-align: middle;\n    }\n\n    .dataframe tbody tr th {\n        vertical-align: top;\n    }\n\n    .dataframe thead th {\n        text-align: right;\n    }\n</style>\n<table border=\"1\" class=\"dataframe\">\n  <thead>\n    <tr style=\"text-align: right;\">\n      <th></th>\n      <th></th>\n      <th></th>\n      <th>num_samples</th>\n      <th>duration</th>\n      <th>sample_md5</th>\n      <th>offset_seconds</th>\n      <th>window_seconds</th>\n      <th>analysis_sample_rate</th>\n      <th>analysis_channels</th>\n      <th>end_of_fade_in</th>\n      <th>start_of_fade_out</th>\n      <th>loudness</th>\n      <th>...</th>\n      <th>rhythmstring</th>\n      <th>rhythm_version</th>\n      <th>start</th>\n      <th>confidence</th>\n      <th>loudness_start</th>\n      <th>loudness_max_time</th>\n      <th>loudness_max</th>\n      <th>loudness_end</th>\n      <th>pitches</th>\n      <th>timbre</th>\n    </tr>\n  </thead>\n  <tbody>\n    <tr>\n      <th rowspan=\"5\" valign=\"top\">track</th>\n      <th>0UaMYEvWZi0ZqiDOoHU3YI</th>\n      <th>0</th>\n      <td>5002341.0</td>\n      <td>226.86354</td>\n      <td></td>\n      <td>0.0</td>\n      <td>0.0</td>\n      <td>22050.0</td>\n      <td>1.0</td>\n      <td>0.21469</td>\n      <td>226.86354</td>\n      <td>-7.105</td>\n      <td>...</td>\n      <td>eJxlnAuy5Davg7fSS9D7sf-NXQIf5TP5b1VSk-l22xJFgi...</td>\n      <td>1.0</td>\n      <td>NaN</td>\n      <td>NaN</td>\n      <td>NaN</td>\n      <td>NaN</td>\n      <td>NaN</td>\n      <td>NaN</td>\n      <td>NaN</td>\n      <td>NaN</td>\n    </tr>\n    <tr>\n      <th>6I9VzXrHxO9rA9A5euc8Ak</th>\n      <th>0</th>\n      <td>4383540.0</td>\n      <td>198.80000</td>\n      <td></td>\n      <td>0.0</td>\n      <td>0.0</td>\n      <td>22050.0</td>\n      <td>1.0</td>\n      <td>0.22617</td>\n      <td>198.80000</td>\n      <td>-3.914</td>\n      <td>...</td>\n      <td>eJx9WweS5DgO_IqeQG_-_7FDGlKq3omL2N7pUksUCZtIoH...</td>\n      <td>1.0</td>\n      <td>NaN</td>\n      <td>NaN</td>\n      <td>NaN</td>\n      <td>NaN</td>\n      <td>NaN</td>\n      <td>NaN</td>\n      <td>NaN</td>\n      <td>NaN</td>\n    </tr>\n    <tr>\n      <th>0WqIKmW4BTrj3eJFmnCKMv</th>\n      <th>0</th>\n      <td>5202330.0</td>\n      <td>235.93333</td>\n      <td></td>\n      <td>0.0</td>\n      <td>0.0</td>\n      <td>22050.0</td>\n      <td>1.0</td>\n      <td>0.37664</td>\n      <td>226.50485</td>\n      <td>-6.583</td>\n      <td>...</td>\n      <td>eJxtnAmWIzkOQ6_iI4So_f4XGwGfCjur572urkw7Fi0kCI...</td>\n      <td>1.0</td>\n      <td>NaN</td>\n      <td>NaN</td>\n      <td>NaN</td>\n      <td>NaN</td>\n      <td>NaN</td>\n      <td>NaN</td>\n      <td>NaN</td>\n      <td>NaN</td>\n    </tr>\n    <tr>\n      <th>1AWQoqb9bSvzTjaLralEkT</th>\n      <th>0</th>\n      <td>5893230.0</td>\n      <td>267.26666</td>\n      <td></td>\n      <td>0.0</td>\n      <td>0.0</td>\n      <td>22050.0</td>\n      <td>1.0</td>\n      <td>0.25011</td>\n      <td>255.08862</td>\n      <td>-6.055</td>\n      <td>...</td>\n      <td>eJx1nAmSYzmORK-iI3Bf7n-xIfw5KUVWj1lXR6TiLyRWhw...</td>\n      <td>1.0</td>\n      <td>NaN</td>\n      <td>NaN</td>\n      <td>NaN</td>\n      <td>NaN</td>\n      <td>NaN</td>\n      <td>NaN</td>\n      <td>NaN</td>\n      <td>NaN</td>\n    </tr>\n    <tr>\n      <th>1lzr43nnXAijIGYnCT8M8H</th>\n      <th>0</th>\n      <td>5018580.0</td>\n      <td>227.60000</td>\n      <td></td>\n      <td>0.0</td>\n      <td>0.0</td>\n      <td>22050.0</td>\n      <td>1.0</td>\n      <td>0.00000</td>\n      <td>223.10313</td>\n      <td>-4.596</td>\n      <td>...</td>\n      <td>eJxlXAmyHMmKvEodIfbl_hdrfCEzn9rs90iqyiWCAMdxqK...</td>\n      <td>1.0</td>\n      <td>NaN</td>\n      <td>NaN</td>\n      <td>NaN</td>\n      <td>NaN</td>\n      <td>NaN</td>\n      <td>NaN</td>\n      <td>NaN</td>\n      <td>NaN</td>\n    </tr>\n    <tr>\n      <th>...</th>\n      <th>...</th>\n      <th>...</th>\n      <td>...</td>\n      <td>...</td>\n      <td>...</td>\n      <td>...</td>\n      <td>...</td>\n      <td>...</td>\n      <td>...</td>\n      <td>...</td>\n      <td>...</td>\n      <td>...</td>\n      <td>...</td>\n      <td>...</td>\n      <td>...</td>\n      <td>...</td>\n      <td>...</td>\n      <td>...</td>\n      <td>...</td>\n      <td>...</td>\n      <td>...</td>\n      <td>...</td>\n      <td>...</td>\n    </tr>\n    <tr>\n      <th rowspan=\"5\" valign=\"top\">tatums</th>\n      <th rowspan=\"5\" valign=\"top\">1b7vg5T9YKR3NNqXfBYRF7</th>\n      <th>1209</th>\n      <td>NaN</td>\n      <td>0.18137</td>\n      <td>NaN</td>\n      <td>NaN</td>\n      <td>NaN</td>\n      <td>NaN</td>\n      <td>NaN</td>\n      <td>NaN</td>\n      <td>NaN</td>\n      <td>NaN</td>\n      <td>...</td>\n      <td>NaN</td>\n      <td>NaN</td>\n      <td>216.92876</td>\n      <td>0.118</td>\n      <td>NaN</td>\n      <td>NaN</td>\n      <td>NaN</td>\n      <td>NaN</td>\n      <td>NaN</td>\n      <td>NaN</td>\n    </tr>\n    <tr>\n      <th>1210</th>\n      <td>NaN</td>\n      <td>0.18133</td>\n      <td>NaN</td>\n      <td>NaN</td>\n      <td>NaN</td>\n      <td>NaN</td>\n      <td>NaN</td>\n      <td>NaN</td>\n      <td>NaN</td>\n      <td>NaN</td>\n      <td>...</td>\n      <td>NaN</td>\n      <td>NaN</td>\n      <td>217.11012</td>\n      <td>0.052</td>\n      <td>NaN</td>\n      <td>NaN</td>\n      <td>NaN</td>\n      <td>NaN</td>\n      <td>NaN</td>\n      <td>NaN</td>\n    </tr>\n    <tr>\n      <th>1211</th>\n      <td>NaN</td>\n      <td>0.18133</td>\n      <td>NaN</td>\n      <td>NaN</td>\n      <td>NaN</td>\n      <td>NaN</td>\n      <td>NaN</td>\n      <td>NaN</td>\n      <td>NaN</td>\n      <td>NaN</td>\n      <td>...</td>\n      <td>NaN</td>\n      <td>NaN</td>\n      <td>217.29144</td>\n      <td>0.052</td>\n      <td>NaN</td>\n      <td>NaN</td>\n      <td>NaN</td>\n      <td>NaN</td>\n      <td>NaN</td>\n      <td>NaN</td>\n    </tr>\n    <tr>\n      <th>1212</th>\n      <td>NaN</td>\n      <td>0.18133</td>\n      <td>NaN</td>\n      <td>NaN</td>\n      <td>NaN</td>\n      <td>NaN</td>\n      <td>NaN</td>\n      <td>NaN</td>\n      <td>NaN</td>\n      <td>NaN</td>\n      <td>...</td>\n      <td>NaN</td>\n      <td>NaN</td>\n      <td>217.47278</td>\n      <td>0.037</td>\n      <td>NaN</td>\n      <td>NaN</td>\n      <td>NaN</td>\n      <td>NaN</td>\n      <td>NaN</td>\n      <td>NaN</td>\n    </tr>\n    <tr>\n      <th>1213</th>\n      <td>NaN</td>\n      <td>0.18133</td>\n      <td>NaN</td>\n      <td>NaN</td>\n      <td>NaN</td>\n      <td>NaN</td>\n      <td>NaN</td>\n      <td>NaN</td>\n      <td>NaN</td>\n      <td>NaN</td>\n      <td>...</td>\n      <td>NaN</td>\n      <td>NaN</td>\n      <td>217.65411</td>\n      <td>0.037</td>\n      <td>NaN</td>\n      <td>NaN</td>\n      <td>NaN</td>\n      <td>NaN</td>\n      <td>NaN</td>\n      <td>NaN</td>\n    </tr>\n  </tbody>\n</table>\n<p>118171 rows × 34 columns</p>\n</div>"
     },
     "execution_count": 89,
     "metadata": {},
     "output_type": "execute_result"
    }
   ],
   "source": [
    "playlist_analysis = processAnalyses(playlist, sp)\n",
    "playlist_analysis"
   ],
   "metadata": {
    "collapsed": false,
    "pycharm": {
     "name": "#%%\n"
    }
   }
  },
  {
   "cell_type": "markdown",
   "source": [
    "The multi-index dataframe is very powerful and allows us to do easily group by song id or analysis category.\n",
    "For example, we'll use it select the `sections` category of all the songs."
   ],
   "metadata": {
    "collapsed": false,
    "pycharm": {
     "name": "#%% md\n"
    }
   }
  },
  {
   "cell_type": "code",
   "execution_count": 78,
   "outputs": [
    {
     "data": {
      "text/plain": "                          duration  loudness    tempo  tempo_confidence  \\\n0UaMYEvWZi0ZqiDOoHU3YI 0   4.55718   -12.258  125.983             0.870   \n                       1  15.28787    -7.235  125.538             0.795   \n                       2  53.10138    -5.956  125.438             0.656   \n                       3  10.03679    -7.260  126.548             0.549   \n                       4  26.30849    -6.338  125.526             0.761   \n...                            ...       ...      ...               ...   \n1b7vg5T9YKR3NNqXfBYRF7 5  49.39999    -3.493  166.894             0.185   \n                       6  16.54521    -5.271  166.999             0.314   \n                       7  35.00812    -2.961  166.975             0.129   \n                       8  14.37013    -3.772  167.414             0.098   \n                       9   9.50738   -20.928  166.865             0.168   \n\n                          time_signature  time_signature_confidence  key  \\\n0UaMYEvWZi0ZqiDOoHU3YI 0             4.0                        1.0  2.0   \n                       1             4.0                        1.0  7.0   \n                       2             4.0                        1.0  4.0   \n                       3             4.0                        1.0  7.0   \n                       4             4.0                        1.0  0.0   \n...                                  ...                        ...  ...   \n1b7vg5T9YKR3NNqXfBYRF7 5             4.0                        1.0  7.0   \n                       6             4.0                        1.0  2.0   \n                       7             4.0                        1.0  7.0   \n                       8             4.0                        1.0  2.0   \n                       9             4.0                        1.0  2.0   \n\n                          key_confidence  mode  mode_confidence      start  \\\n0UaMYEvWZi0ZqiDOoHU3YI 0           0.237   1.0            0.293    0.00000   \n                       1           0.563   1.0            0.695    4.55718   \n                       2           0.837   0.0            0.598   19.84505   \n                       3           0.011   1.0            0.421   72.94643   \n                       4           0.536   1.0            0.447   82.98323   \n...                                  ...   ...              ...        ...   \n1b7vg5T9YKR3NNqXfBYRF7 5           0.394   1.0            0.626   95.30251   \n                       6           0.629   1.0            0.601  144.70248   \n                       7           0.702   1.0            0.650  161.24770   \n                       8           0.026   1.0            0.352  196.25581   \n                       9           0.000   1.0            0.000  210.62596   \n\n                          confidence  \n0UaMYEvWZi0ZqiDOoHU3YI 0       1.000  \n                       1       0.668  \n                       2       0.117  \n                       3       0.205  \n                       4       0.092  \n...                              ...  \n1b7vg5T9YKR3NNqXfBYRF7 5       0.859  \n                       6       1.000  \n                       7       0.487  \n                       8       0.124  \n                       9       1.000  \n\n[499 rows x 12 columns]",
      "text/html": "<div>\n<style scoped>\n    .dataframe tbody tr th:only-of-type {\n        vertical-align: middle;\n    }\n\n    .dataframe tbody tr th {\n        vertical-align: top;\n    }\n\n    .dataframe thead th {\n        text-align: right;\n    }\n</style>\n<table border=\"1\" class=\"dataframe\">\n  <thead>\n    <tr style=\"text-align: right;\">\n      <th></th>\n      <th></th>\n      <th>duration</th>\n      <th>loudness</th>\n      <th>tempo</th>\n      <th>tempo_confidence</th>\n      <th>time_signature</th>\n      <th>time_signature_confidence</th>\n      <th>key</th>\n      <th>key_confidence</th>\n      <th>mode</th>\n      <th>mode_confidence</th>\n      <th>start</th>\n      <th>confidence</th>\n    </tr>\n  </thead>\n  <tbody>\n    <tr>\n      <th rowspan=\"5\" valign=\"top\">0UaMYEvWZi0ZqiDOoHU3YI</th>\n      <th>0</th>\n      <td>4.55718</td>\n      <td>-12.258</td>\n      <td>125.983</td>\n      <td>0.870</td>\n      <td>4.0</td>\n      <td>1.0</td>\n      <td>2.0</td>\n      <td>0.237</td>\n      <td>1.0</td>\n      <td>0.293</td>\n      <td>0.00000</td>\n      <td>1.000</td>\n    </tr>\n    <tr>\n      <th>1</th>\n      <td>15.28787</td>\n      <td>-7.235</td>\n      <td>125.538</td>\n      <td>0.795</td>\n      <td>4.0</td>\n      <td>1.0</td>\n      <td>7.0</td>\n      <td>0.563</td>\n      <td>1.0</td>\n      <td>0.695</td>\n      <td>4.55718</td>\n      <td>0.668</td>\n    </tr>\n    <tr>\n      <th>2</th>\n      <td>53.10138</td>\n      <td>-5.956</td>\n      <td>125.438</td>\n      <td>0.656</td>\n      <td>4.0</td>\n      <td>1.0</td>\n      <td>4.0</td>\n      <td>0.837</td>\n      <td>0.0</td>\n      <td>0.598</td>\n      <td>19.84505</td>\n      <td>0.117</td>\n    </tr>\n    <tr>\n      <th>3</th>\n      <td>10.03679</td>\n      <td>-7.260</td>\n      <td>126.548</td>\n      <td>0.549</td>\n      <td>4.0</td>\n      <td>1.0</td>\n      <td>7.0</td>\n      <td>0.011</td>\n      <td>1.0</td>\n      <td>0.421</td>\n      <td>72.94643</td>\n      <td>0.205</td>\n    </tr>\n    <tr>\n      <th>4</th>\n      <td>26.30849</td>\n      <td>-6.338</td>\n      <td>125.526</td>\n      <td>0.761</td>\n      <td>4.0</td>\n      <td>1.0</td>\n      <td>0.0</td>\n      <td>0.536</td>\n      <td>1.0</td>\n      <td>0.447</td>\n      <td>82.98323</td>\n      <td>0.092</td>\n    </tr>\n    <tr>\n      <th>...</th>\n      <th>...</th>\n      <td>...</td>\n      <td>...</td>\n      <td>...</td>\n      <td>...</td>\n      <td>...</td>\n      <td>...</td>\n      <td>...</td>\n      <td>...</td>\n      <td>...</td>\n      <td>...</td>\n      <td>...</td>\n      <td>...</td>\n    </tr>\n    <tr>\n      <th rowspan=\"5\" valign=\"top\">1b7vg5T9YKR3NNqXfBYRF7</th>\n      <th>5</th>\n      <td>49.39999</td>\n      <td>-3.493</td>\n      <td>166.894</td>\n      <td>0.185</td>\n      <td>4.0</td>\n      <td>1.0</td>\n      <td>7.0</td>\n      <td>0.394</td>\n      <td>1.0</td>\n      <td>0.626</td>\n      <td>95.30251</td>\n      <td>0.859</td>\n    </tr>\n    <tr>\n      <th>6</th>\n      <td>16.54521</td>\n      <td>-5.271</td>\n      <td>166.999</td>\n      <td>0.314</td>\n      <td>4.0</td>\n      <td>1.0</td>\n      <td>2.0</td>\n      <td>0.629</td>\n      <td>1.0</td>\n      <td>0.601</td>\n      <td>144.70248</td>\n      <td>1.000</td>\n    </tr>\n    <tr>\n      <th>7</th>\n      <td>35.00812</td>\n      <td>-2.961</td>\n      <td>166.975</td>\n      <td>0.129</td>\n      <td>4.0</td>\n      <td>1.0</td>\n      <td>7.0</td>\n      <td>0.702</td>\n      <td>1.0</td>\n      <td>0.650</td>\n      <td>161.24770</td>\n      <td>0.487</td>\n    </tr>\n    <tr>\n      <th>8</th>\n      <td>14.37013</td>\n      <td>-3.772</td>\n      <td>167.414</td>\n      <td>0.098</td>\n      <td>4.0</td>\n      <td>1.0</td>\n      <td>2.0</td>\n      <td>0.026</td>\n      <td>1.0</td>\n      <td>0.352</td>\n      <td>196.25581</td>\n      <td>0.124</td>\n    </tr>\n    <tr>\n      <th>9</th>\n      <td>9.50738</td>\n      <td>-20.928</td>\n      <td>166.865</td>\n      <td>0.168</td>\n      <td>4.0</td>\n      <td>1.0</td>\n      <td>2.0</td>\n      <td>0.000</td>\n      <td>1.0</td>\n      <td>0.000</td>\n      <td>210.62596</td>\n      <td>1.000</td>\n    </tr>\n  </tbody>\n</table>\n<p>499 rows × 12 columns</p>\n</div>"
     },
     "execution_count": 78,
     "metadata": {},
     "output_type": "execute_result"
    }
   ],
   "source": [
    "# access just the sections category of our song analysis\n",
    "sections = playlist_analysis.loc['sections']\n",
    "\n",
    "# drop the empty columns\n",
    "sections = sections.dropna(axis=1,how='all')\n",
    "sections"
   ],
   "metadata": {
    "collapsed": false,
    "pycharm": {
     "name": "#%%\n"
    }
   }
  },
  {
   "cell_type": "markdown",
   "source": [
    "Next, we'll select all analysis categories for a specific song using its ID."
   ],
   "metadata": {
    "collapsed": false,
    "pycharm": {
     "name": "#%% md\n"
    }
   }
  },
  {
   "cell_type": "code",
   "execution_count": 86,
   "outputs": [
    {
     "data": {
      "text/plain": "                                   num_samples  duration sample_md5  \\\nbars   0UaMYEvWZi0ZqiDOoHU3YI 0            NaN   1.95001        NaN   \n                              1            NaN   1.89266        NaN   \n                              2            NaN   1.89015        NaN   \n                              3            NaN   1.91268        NaN   \n                              4            NaN   1.91566        NaN   \n...                                        ...       ...        ...   \ntatums 0UaMYEvWZi0ZqiDOoHU3YI 941          NaN   0.23942        NaN   \n                              942          NaN   0.24014        NaN   \n                              943          NaN   0.24014        NaN   \n                              944          NaN   0.24014        NaN   \n                              945          NaN   0.24014        NaN   \n\n                                   offset_seconds  window_seconds  \\\nbars   0UaMYEvWZi0ZqiDOoHU3YI 0               NaN             NaN   \n                              1               NaN             NaN   \n                              2               NaN             NaN   \n                              3               NaN             NaN   \n                              4               NaN             NaN   \n...                                           ...             ...   \ntatums 0UaMYEvWZi0ZqiDOoHU3YI 941             NaN             NaN   \n                              942             NaN             NaN   \n                              943             NaN             NaN   \n                              944             NaN             NaN   \n                              945             NaN             NaN   \n\n                                   analysis_sample_rate  analysis_channels  \\\nbars   0UaMYEvWZi0ZqiDOoHU3YI 0                     NaN                NaN   \n                              1                     NaN                NaN   \n                              2                     NaN                NaN   \n                              3                     NaN                NaN   \n                              4                     NaN                NaN   \n...                                                 ...                ...   \ntatums 0UaMYEvWZi0ZqiDOoHU3YI 941                   NaN                NaN   \n                              942                   NaN                NaN   \n                              943                   NaN                NaN   \n                              944                   NaN                NaN   \n                              945                   NaN                NaN   \n\n                                   end_of_fade_in  start_of_fade_out  \\\nbars   0UaMYEvWZi0ZqiDOoHU3YI 0               NaN                NaN   \n                              1               NaN                NaN   \n                              2               NaN                NaN   \n                              3               NaN                NaN   \n                              4               NaN                NaN   \n...                                           ...                ...   \ntatums 0UaMYEvWZi0ZqiDOoHU3YI 941             NaN                NaN   \n                              942             NaN                NaN   \n                              943             NaN                NaN   \n                              944             NaN                NaN   \n                              945             NaN                NaN   \n\n                                   loudness  ...  rhythmstring  \\\nbars   0UaMYEvWZi0ZqiDOoHU3YI 0         NaN  ...           NaN   \n                              1         NaN  ...           NaN   \n                              2         NaN  ...           NaN   \n                              3         NaN  ...           NaN   \n                              4         NaN  ...           NaN   \n...                                     ...  ...           ...   \ntatums 0UaMYEvWZi0ZqiDOoHU3YI 941       NaN  ...           NaN   \n                              942       NaN  ...           NaN   \n                              943       NaN  ...           NaN   \n                              944       NaN  ...           NaN   \n                              945       NaN  ...           NaN   \n\n                                   rhythm_version      start  confidence  \\\nbars   0UaMYEvWZi0ZqiDOoHU3YI 0               NaN    0.24313       0.243   \n                              1               NaN    2.19314       0.567   \n                              2               NaN    4.08580       0.727   \n                              3               NaN    5.97594       0.858   \n                              4               NaN    7.88862       0.684   \n...                                           ...        ...         ...   \ntatums 0UaMYEvWZi0ZqiDOoHU3YI 941             NaN  225.26659       0.566   \n                              942             NaN  225.50601       0.232   \n                              943             NaN  225.74615       0.232   \n                              944             NaN  225.98630       0.249   \n                              945             NaN  226.22643       0.249   \n\n                                   loudness_start  loudness_max_time  \\\nbars   0UaMYEvWZi0ZqiDOoHU3YI 0               NaN                NaN   \n                              1               NaN                NaN   \n                              2               NaN                NaN   \n                              3               NaN                NaN   \n                              4               NaN                NaN   \n...                                           ...                ...   \ntatums 0UaMYEvWZi0ZqiDOoHU3YI 941             NaN                NaN   \n                              942             NaN                NaN   \n                              943             NaN                NaN   \n                              944             NaN                NaN   \n                              945             NaN                NaN   \n\n                                   loudness_max  loudness_end pitches  timbre  \nbars   0UaMYEvWZi0ZqiDOoHU3YI 0             NaN           NaN     NaN     NaN  \n                              1             NaN           NaN     NaN     NaN  \n                              2             NaN           NaN     NaN     NaN  \n                              3             NaN           NaN     NaN     NaN  \n                              4             NaN           NaN     NaN     NaN  \n...                                         ...           ...     ...     ...  \ntatums 0UaMYEvWZi0ZqiDOoHU3YI 941           NaN           NaN     NaN     NaN  \n                              942           NaN           NaN     NaN     NaN  \n                              943           NaN           NaN     NaN     NaN  \n                              944           NaN           NaN     NaN     NaN  \n                              945           NaN           NaN     NaN     NaN  \n\n[2635 rows x 34 columns]",
      "text/html": "<div>\n<style scoped>\n    .dataframe tbody tr th:only-of-type {\n        vertical-align: middle;\n    }\n\n    .dataframe tbody tr th {\n        vertical-align: top;\n    }\n\n    .dataframe thead th {\n        text-align: right;\n    }\n</style>\n<table border=\"1\" class=\"dataframe\">\n  <thead>\n    <tr style=\"text-align: right;\">\n      <th></th>\n      <th></th>\n      <th></th>\n      <th>num_samples</th>\n      <th>duration</th>\n      <th>sample_md5</th>\n      <th>offset_seconds</th>\n      <th>window_seconds</th>\n      <th>analysis_sample_rate</th>\n      <th>analysis_channels</th>\n      <th>end_of_fade_in</th>\n      <th>start_of_fade_out</th>\n      <th>loudness</th>\n      <th>...</th>\n      <th>rhythmstring</th>\n      <th>rhythm_version</th>\n      <th>start</th>\n      <th>confidence</th>\n      <th>loudness_start</th>\n      <th>loudness_max_time</th>\n      <th>loudness_max</th>\n      <th>loudness_end</th>\n      <th>pitches</th>\n      <th>timbre</th>\n    </tr>\n  </thead>\n  <tbody>\n    <tr>\n      <th rowspan=\"5\" valign=\"top\">bars</th>\n      <th rowspan=\"5\" valign=\"top\">0UaMYEvWZi0ZqiDOoHU3YI</th>\n      <th>0</th>\n      <td>NaN</td>\n      <td>1.95001</td>\n      <td>NaN</td>\n      <td>NaN</td>\n      <td>NaN</td>\n      <td>NaN</td>\n      <td>NaN</td>\n      <td>NaN</td>\n      <td>NaN</td>\n      <td>NaN</td>\n      <td>...</td>\n      <td>NaN</td>\n      <td>NaN</td>\n      <td>0.24313</td>\n      <td>0.243</td>\n      <td>NaN</td>\n      <td>NaN</td>\n      <td>NaN</td>\n      <td>NaN</td>\n      <td>NaN</td>\n      <td>NaN</td>\n    </tr>\n    <tr>\n      <th>1</th>\n      <td>NaN</td>\n      <td>1.89266</td>\n      <td>NaN</td>\n      <td>NaN</td>\n      <td>NaN</td>\n      <td>NaN</td>\n      <td>NaN</td>\n      <td>NaN</td>\n      <td>NaN</td>\n      <td>NaN</td>\n      <td>...</td>\n      <td>NaN</td>\n      <td>NaN</td>\n      <td>2.19314</td>\n      <td>0.567</td>\n      <td>NaN</td>\n      <td>NaN</td>\n      <td>NaN</td>\n      <td>NaN</td>\n      <td>NaN</td>\n      <td>NaN</td>\n    </tr>\n    <tr>\n      <th>2</th>\n      <td>NaN</td>\n      <td>1.89015</td>\n      <td>NaN</td>\n      <td>NaN</td>\n      <td>NaN</td>\n      <td>NaN</td>\n      <td>NaN</td>\n      <td>NaN</td>\n      <td>NaN</td>\n      <td>NaN</td>\n      <td>...</td>\n      <td>NaN</td>\n      <td>NaN</td>\n      <td>4.08580</td>\n      <td>0.727</td>\n      <td>NaN</td>\n      <td>NaN</td>\n      <td>NaN</td>\n      <td>NaN</td>\n      <td>NaN</td>\n      <td>NaN</td>\n    </tr>\n    <tr>\n      <th>3</th>\n      <td>NaN</td>\n      <td>1.91268</td>\n      <td>NaN</td>\n      <td>NaN</td>\n      <td>NaN</td>\n      <td>NaN</td>\n      <td>NaN</td>\n      <td>NaN</td>\n      <td>NaN</td>\n      <td>NaN</td>\n      <td>...</td>\n      <td>NaN</td>\n      <td>NaN</td>\n      <td>5.97594</td>\n      <td>0.858</td>\n      <td>NaN</td>\n      <td>NaN</td>\n      <td>NaN</td>\n      <td>NaN</td>\n      <td>NaN</td>\n      <td>NaN</td>\n    </tr>\n    <tr>\n      <th>4</th>\n      <td>NaN</td>\n      <td>1.91566</td>\n      <td>NaN</td>\n      <td>NaN</td>\n      <td>NaN</td>\n      <td>NaN</td>\n      <td>NaN</td>\n      <td>NaN</td>\n      <td>NaN</td>\n      <td>NaN</td>\n      <td>...</td>\n      <td>NaN</td>\n      <td>NaN</td>\n      <td>7.88862</td>\n      <td>0.684</td>\n      <td>NaN</td>\n      <td>NaN</td>\n      <td>NaN</td>\n      <td>NaN</td>\n      <td>NaN</td>\n      <td>NaN</td>\n    </tr>\n    <tr>\n      <th>...</th>\n      <th>...</th>\n      <th>...</th>\n      <td>...</td>\n      <td>...</td>\n      <td>...</td>\n      <td>...</td>\n      <td>...</td>\n      <td>...</td>\n      <td>...</td>\n      <td>...</td>\n      <td>...</td>\n      <td>...</td>\n      <td>...</td>\n      <td>...</td>\n      <td>...</td>\n      <td>...</td>\n      <td>...</td>\n      <td>...</td>\n      <td>...</td>\n      <td>...</td>\n      <td>...</td>\n      <td>...</td>\n      <td>...</td>\n    </tr>\n    <tr>\n      <th rowspan=\"5\" valign=\"top\">tatums</th>\n      <th rowspan=\"5\" valign=\"top\">0UaMYEvWZi0ZqiDOoHU3YI</th>\n      <th>941</th>\n      <td>NaN</td>\n      <td>0.23942</td>\n      <td>NaN</td>\n      <td>NaN</td>\n      <td>NaN</td>\n      <td>NaN</td>\n      <td>NaN</td>\n      <td>NaN</td>\n      <td>NaN</td>\n      <td>NaN</td>\n      <td>...</td>\n      <td>NaN</td>\n      <td>NaN</td>\n      <td>225.26659</td>\n      <td>0.566</td>\n      <td>NaN</td>\n      <td>NaN</td>\n      <td>NaN</td>\n      <td>NaN</td>\n      <td>NaN</td>\n      <td>NaN</td>\n    </tr>\n    <tr>\n      <th>942</th>\n      <td>NaN</td>\n      <td>0.24014</td>\n      <td>NaN</td>\n      <td>NaN</td>\n      <td>NaN</td>\n      <td>NaN</td>\n      <td>NaN</td>\n      <td>NaN</td>\n      <td>NaN</td>\n      <td>NaN</td>\n      <td>...</td>\n      <td>NaN</td>\n      <td>NaN</td>\n      <td>225.50601</td>\n      <td>0.232</td>\n      <td>NaN</td>\n      <td>NaN</td>\n      <td>NaN</td>\n      <td>NaN</td>\n      <td>NaN</td>\n      <td>NaN</td>\n    </tr>\n    <tr>\n      <th>943</th>\n      <td>NaN</td>\n      <td>0.24014</td>\n      <td>NaN</td>\n      <td>NaN</td>\n      <td>NaN</td>\n      <td>NaN</td>\n      <td>NaN</td>\n      <td>NaN</td>\n      <td>NaN</td>\n      <td>NaN</td>\n      <td>...</td>\n      <td>NaN</td>\n      <td>NaN</td>\n      <td>225.74615</td>\n      <td>0.232</td>\n      <td>NaN</td>\n      <td>NaN</td>\n      <td>NaN</td>\n      <td>NaN</td>\n      <td>NaN</td>\n      <td>NaN</td>\n    </tr>\n    <tr>\n      <th>944</th>\n      <td>NaN</td>\n      <td>0.24014</td>\n      <td>NaN</td>\n      <td>NaN</td>\n      <td>NaN</td>\n      <td>NaN</td>\n      <td>NaN</td>\n      <td>NaN</td>\n      <td>NaN</td>\n      <td>NaN</td>\n      <td>...</td>\n      <td>NaN</td>\n      <td>NaN</td>\n      <td>225.98630</td>\n      <td>0.249</td>\n      <td>NaN</td>\n      <td>NaN</td>\n      <td>NaN</td>\n      <td>NaN</td>\n      <td>NaN</td>\n      <td>NaN</td>\n    </tr>\n    <tr>\n      <th>945</th>\n      <td>NaN</td>\n      <td>0.24014</td>\n      <td>NaN</td>\n      <td>NaN</td>\n      <td>NaN</td>\n      <td>NaN</td>\n      <td>NaN</td>\n      <td>NaN</td>\n      <td>NaN</td>\n      <td>NaN</td>\n      <td>...</td>\n      <td>NaN</td>\n      <td>NaN</td>\n      <td>226.22643</td>\n      <td>0.249</td>\n      <td>NaN</td>\n      <td>NaN</td>\n      <td>NaN</td>\n      <td>NaN</td>\n      <td>NaN</td>\n      <td>NaN</td>\n    </tr>\n  </tbody>\n</table>\n<p>2635 rows × 34 columns</p>\n</div>"
     },
     "execution_count": 86,
     "metadata": {},
     "output_type": "execute_result"
    }
   ],
   "source": [
    "# group the dataframe by song id\n",
    "group_by_song_id = playlist_analysis.groupby(level=1)\n",
    "\n",
    "# select all rows that have the group 0UaMYEvWZi0ZqiDOoHU3YI\n",
    "group_by_song_id.get_group('0UaMYEvWZi0ZqiDOoHU3YI')"
   ],
   "metadata": {
    "collapsed": false,
    "pycharm": {
     "name": "#%%\n"
    }
   }
  },
  {
   "cell_type": "markdown",
   "source": [
    "Now, we can see that the `tracks` analysis category is way different than the others. We can\n",
    "again use pandas to drop that group and clean up our output a little better for viewing.\n",
    "Notice how each category still has tons of completely empty columns, this is because\n",
    "each category doesn't have all of the same columns as the others."
   ],
   "metadata": {
    "collapsed": false,
    "pycharm": {
     "name": "#%% md\n"
    }
   }
  },
  {
   "cell_type": "code",
   "execution_count": 91,
   "outputs": [
    {
     "data": {
      "text/plain": "                                   duration  loudness  tempo  \\\nbars   0UaMYEvWZi0ZqiDOoHU3YI 0     1.95001       NaN    NaN   \n                              1     1.89266       NaN    NaN   \n                              2     1.89015       NaN    NaN   \n                              3     1.91268       NaN    NaN   \n                              4     1.91566       NaN    NaN   \n...                                     ...       ...    ...   \ntatums 0UaMYEvWZi0ZqiDOoHU3YI 941   0.23942       NaN    NaN   \n                              942   0.24014       NaN    NaN   \n                              943   0.24014       NaN    NaN   \n                              944   0.24014       NaN    NaN   \n                              945   0.24014       NaN    NaN   \n\n                                   tempo_confidence  time_signature  \\\nbars   0UaMYEvWZi0ZqiDOoHU3YI 0                 NaN             NaN   \n                              1                 NaN             NaN   \n                              2                 NaN             NaN   \n                              3                 NaN             NaN   \n                              4                 NaN             NaN   \n...                                             ...             ...   \ntatums 0UaMYEvWZi0ZqiDOoHU3YI 941               NaN             NaN   \n                              942               NaN             NaN   \n                              943               NaN             NaN   \n                              944               NaN             NaN   \n                              945               NaN             NaN   \n\n                                   time_signature_confidence  key  \\\nbars   0UaMYEvWZi0ZqiDOoHU3YI 0                          NaN  NaN   \n                              1                          NaN  NaN   \n                              2                          NaN  NaN   \n                              3                          NaN  NaN   \n                              4                          NaN  NaN   \n...                                                      ...  ...   \ntatums 0UaMYEvWZi0ZqiDOoHU3YI 941                        NaN  NaN   \n                              942                        NaN  NaN   \n                              943                        NaN  NaN   \n                              944                        NaN  NaN   \n                              945                        NaN  NaN   \n\n                                   key_confidence  mode  mode_confidence  \\\nbars   0UaMYEvWZi0ZqiDOoHU3YI 0               NaN   NaN              NaN   \n                              1               NaN   NaN              NaN   \n                              2               NaN   NaN              NaN   \n                              3               NaN   NaN              NaN   \n                              4               NaN   NaN              NaN   \n...                                           ...   ...              ...   \ntatums 0UaMYEvWZi0ZqiDOoHU3YI 941             NaN   NaN              NaN   \n                              942             NaN   NaN              NaN   \n                              943             NaN   NaN              NaN   \n                              944             NaN   NaN              NaN   \n                              945             NaN   NaN              NaN   \n\n                                       start  confidence  loudness_start  \\\nbars   0UaMYEvWZi0ZqiDOoHU3YI 0      0.24313       0.243             NaN   \n                              1      2.19314       0.567             NaN   \n                              2      4.08580       0.727             NaN   \n                              3      5.97594       0.858             NaN   \n                              4      7.88862       0.684             NaN   \n...                                      ...         ...             ...   \ntatums 0UaMYEvWZi0ZqiDOoHU3YI 941  225.26659       0.566             NaN   \n                              942  225.50601       0.232             NaN   \n                              943  225.74615       0.232             NaN   \n                              944  225.98630       0.249             NaN   \n                              945  226.22643       0.249             NaN   \n\n                                   loudness_max_time  loudness_max  \\\nbars   0UaMYEvWZi0ZqiDOoHU3YI 0                  NaN           NaN   \n                              1                  NaN           NaN   \n                              2                  NaN           NaN   \n                              3                  NaN           NaN   \n                              4                  NaN           NaN   \n...                                              ...           ...   \ntatums 0UaMYEvWZi0ZqiDOoHU3YI 941                NaN           NaN   \n                              942                NaN           NaN   \n                              943                NaN           NaN   \n                              944                NaN           NaN   \n                              945                NaN           NaN   \n\n                                   loudness_end pitches timbre  \nbars   0UaMYEvWZi0ZqiDOoHU3YI 0             NaN     NaN    NaN  \n                              1             NaN     NaN    NaN  \n                              2             NaN     NaN    NaN  \n                              3             NaN     NaN    NaN  \n                              4             NaN     NaN    NaN  \n...                                         ...     ...    ...  \ntatums 0UaMYEvWZi0ZqiDOoHU3YI 941           NaN     NaN    NaN  \n                              942           NaN     NaN    NaN  \n                              943           NaN     NaN    NaN  \n                              944           NaN     NaN    NaN  \n                              945           NaN     NaN    NaN  \n\n[2635 rows x 18 columns]",
      "text/html": "<div>\n<style scoped>\n    .dataframe tbody tr th:only-of-type {\n        vertical-align: middle;\n    }\n\n    .dataframe tbody tr th {\n        vertical-align: top;\n    }\n\n    .dataframe thead th {\n        text-align: right;\n    }\n</style>\n<table border=\"1\" class=\"dataframe\">\n  <thead>\n    <tr style=\"text-align: right;\">\n      <th></th>\n      <th></th>\n      <th></th>\n      <th>duration</th>\n      <th>loudness</th>\n      <th>tempo</th>\n      <th>tempo_confidence</th>\n      <th>time_signature</th>\n      <th>time_signature_confidence</th>\n      <th>key</th>\n      <th>key_confidence</th>\n      <th>mode</th>\n      <th>mode_confidence</th>\n      <th>start</th>\n      <th>confidence</th>\n      <th>loudness_start</th>\n      <th>loudness_max_time</th>\n      <th>loudness_max</th>\n      <th>loudness_end</th>\n      <th>pitches</th>\n      <th>timbre</th>\n    </tr>\n  </thead>\n  <tbody>\n    <tr>\n      <th rowspan=\"5\" valign=\"top\">bars</th>\n      <th rowspan=\"5\" valign=\"top\">0UaMYEvWZi0ZqiDOoHU3YI</th>\n      <th>0</th>\n      <td>1.95001</td>\n      <td>NaN</td>\n      <td>NaN</td>\n      <td>NaN</td>\n      <td>NaN</td>\n      <td>NaN</td>\n      <td>NaN</td>\n      <td>NaN</td>\n      <td>NaN</td>\n      <td>NaN</td>\n      <td>0.24313</td>\n      <td>0.243</td>\n      <td>NaN</td>\n      <td>NaN</td>\n      <td>NaN</td>\n      <td>NaN</td>\n      <td>NaN</td>\n      <td>NaN</td>\n    </tr>\n    <tr>\n      <th>1</th>\n      <td>1.89266</td>\n      <td>NaN</td>\n      <td>NaN</td>\n      <td>NaN</td>\n      <td>NaN</td>\n      <td>NaN</td>\n      <td>NaN</td>\n      <td>NaN</td>\n      <td>NaN</td>\n      <td>NaN</td>\n      <td>2.19314</td>\n      <td>0.567</td>\n      <td>NaN</td>\n      <td>NaN</td>\n      <td>NaN</td>\n      <td>NaN</td>\n      <td>NaN</td>\n      <td>NaN</td>\n    </tr>\n    <tr>\n      <th>2</th>\n      <td>1.89015</td>\n      <td>NaN</td>\n      <td>NaN</td>\n      <td>NaN</td>\n      <td>NaN</td>\n      <td>NaN</td>\n      <td>NaN</td>\n      <td>NaN</td>\n      <td>NaN</td>\n      <td>NaN</td>\n      <td>4.08580</td>\n      <td>0.727</td>\n      <td>NaN</td>\n      <td>NaN</td>\n      <td>NaN</td>\n      <td>NaN</td>\n      <td>NaN</td>\n      <td>NaN</td>\n    </tr>\n    <tr>\n      <th>3</th>\n      <td>1.91268</td>\n      <td>NaN</td>\n      <td>NaN</td>\n      <td>NaN</td>\n      <td>NaN</td>\n      <td>NaN</td>\n      <td>NaN</td>\n      <td>NaN</td>\n      <td>NaN</td>\n      <td>NaN</td>\n      <td>5.97594</td>\n      <td>0.858</td>\n      <td>NaN</td>\n      <td>NaN</td>\n      <td>NaN</td>\n      <td>NaN</td>\n      <td>NaN</td>\n      <td>NaN</td>\n    </tr>\n    <tr>\n      <th>4</th>\n      <td>1.91566</td>\n      <td>NaN</td>\n      <td>NaN</td>\n      <td>NaN</td>\n      <td>NaN</td>\n      <td>NaN</td>\n      <td>NaN</td>\n      <td>NaN</td>\n      <td>NaN</td>\n      <td>NaN</td>\n      <td>7.88862</td>\n      <td>0.684</td>\n      <td>NaN</td>\n      <td>NaN</td>\n      <td>NaN</td>\n      <td>NaN</td>\n      <td>NaN</td>\n      <td>NaN</td>\n    </tr>\n    <tr>\n      <th>...</th>\n      <th>...</th>\n      <th>...</th>\n      <td>...</td>\n      <td>...</td>\n      <td>...</td>\n      <td>...</td>\n      <td>...</td>\n      <td>...</td>\n      <td>...</td>\n      <td>...</td>\n      <td>...</td>\n      <td>...</td>\n      <td>...</td>\n      <td>...</td>\n      <td>...</td>\n      <td>...</td>\n      <td>...</td>\n      <td>...</td>\n      <td>...</td>\n      <td>...</td>\n    </tr>\n    <tr>\n      <th rowspan=\"5\" valign=\"top\">tatums</th>\n      <th rowspan=\"5\" valign=\"top\">0UaMYEvWZi0ZqiDOoHU3YI</th>\n      <th>941</th>\n      <td>0.23942</td>\n      <td>NaN</td>\n      <td>NaN</td>\n      <td>NaN</td>\n      <td>NaN</td>\n      <td>NaN</td>\n      <td>NaN</td>\n      <td>NaN</td>\n      <td>NaN</td>\n      <td>NaN</td>\n      <td>225.26659</td>\n      <td>0.566</td>\n      <td>NaN</td>\n      <td>NaN</td>\n      <td>NaN</td>\n      <td>NaN</td>\n      <td>NaN</td>\n      <td>NaN</td>\n    </tr>\n    <tr>\n      <th>942</th>\n      <td>0.24014</td>\n      <td>NaN</td>\n      <td>NaN</td>\n      <td>NaN</td>\n      <td>NaN</td>\n      <td>NaN</td>\n      <td>NaN</td>\n      <td>NaN</td>\n      <td>NaN</td>\n      <td>NaN</td>\n      <td>225.50601</td>\n      <td>0.232</td>\n      <td>NaN</td>\n      <td>NaN</td>\n      <td>NaN</td>\n      <td>NaN</td>\n      <td>NaN</td>\n      <td>NaN</td>\n    </tr>\n    <tr>\n      <th>943</th>\n      <td>0.24014</td>\n      <td>NaN</td>\n      <td>NaN</td>\n      <td>NaN</td>\n      <td>NaN</td>\n      <td>NaN</td>\n      <td>NaN</td>\n      <td>NaN</td>\n      <td>NaN</td>\n      <td>NaN</td>\n      <td>225.74615</td>\n      <td>0.232</td>\n      <td>NaN</td>\n      <td>NaN</td>\n      <td>NaN</td>\n      <td>NaN</td>\n      <td>NaN</td>\n      <td>NaN</td>\n    </tr>\n    <tr>\n      <th>944</th>\n      <td>0.24014</td>\n      <td>NaN</td>\n      <td>NaN</td>\n      <td>NaN</td>\n      <td>NaN</td>\n      <td>NaN</td>\n      <td>NaN</td>\n      <td>NaN</td>\n      <td>NaN</td>\n      <td>NaN</td>\n      <td>225.98630</td>\n      <td>0.249</td>\n      <td>NaN</td>\n      <td>NaN</td>\n      <td>NaN</td>\n      <td>NaN</td>\n      <td>NaN</td>\n      <td>NaN</td>\n    </tr>\n    <tr>\n      <th>945</th>\n      <td>0.24014</td>\n      <td>NaN</td>\n      <td>NaN</td>\n      <td>NaN</td>\n      <td>NaN</td>\n      <td>NaN</td>\n      <td>NaN</td>\n      <td>NaN</td>\n      <td>NaN</td>\n      <td>NaN</td>\n      <td>226.22643</td>\n      <td>0.249</td>\n      <td>NaN</td>\n      <td>NaN</td>\n      <td>NaN</td>\n      <td>NaN</td>\n      <td>NaN</td>\n      <td>NaN</td>\n    </tr>\n  </tbody>\n</table>\n<p>2635 rows × 18 columns</p>\n</div>"
     },
     "execution_count": 91,
     "metadata": {},
     "output_type": "execute_result"
    }
   ],
   "source": [
    "# remove the tracks group\n",
    "without_tracks = playlist_analysis.drop(index='track')\n",
    "\n",
    "# group by song id\n",
    "group_by_song_id = without_tracks.groupby(level=1)\n",
    "\n",
    "# get a specific songs analysis\n",
    "group_by_song_id.get_group('0UaMYEvWZi0ZqiDOoHU3YI')"
   ],
   "metadata": {
    "collapsed": false,
    "pycharm": {
     "name": "#%%\n"
    }
   }
  },
  {
   "cell_type": "markdown",
   "source": [
    "### Data processed... now what?\n"
   ],
   "metadata": {
    "collapsed": false,
    "pycharm": {
     "name": "#%% md\n"
    }
   }
  }
 ],
 "metadata": {
  "kernelspec": {
   "display_name": "Python 3",
   "language": "python",
   "name": "python3"
  },
  "language_info": {
   "codemirror_mode": {
    "name": "ipython",
    "version": 2
   },
   "file_extension": ".py",
   "mimetype": "text/x-python",
   "name": "python",
   "nbconvert_exporter": "python",
   "pygments_lexer": "ipython2",
   "version": "2.7.6"
  },
  "pycharm": {
   "stem_cell": {
    "cell_type": "raw",
    "source": [
     "\n"
    ],
    "metadata": {
     "collapsed": false
    }
   }
  }
 },
 "nbformat": 4,
 "nbformat_minor": 0
}